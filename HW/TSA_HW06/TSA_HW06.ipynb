{
 "cells": [
  {
   "cell_type": "markdown",
   "metadata": {},
   "source": [
    "# TSA HW06\n",
    "R10A21126 WANG YIFAN"
   ]
  },
  {
   "cell_type": "code",
   "execution_count": 1,
   "metadata": {
    "vscode": {
     "languageId": "r"
    }
   },
   "outputs": [
    {
     "name": "stderr",
     "output_type": "stream",
     "text": [
      "Warning message:\n",
      "\"package 'TSA' was built under R version 4.2.2\"\n",
      "\n",
      "Attaching package: 'TSA'\n",
      "\n",
      "\n",
      "The following objects are masked from 'package:stats':\n",
      "\n",
      "    acf, arima\n",
      "\n",
      "\n",
      "The following object is masked from 'package:utils':\n",
      "\n",
      "    tar\n",
      "\n",
      "\n"
     ]
    }
   ],
   "source": [
    "# install.packages(\"TSA\")\n",
    "library(\"TSA\");"
   ]
  },
  {
   "cell_type": "markdown",
   "metadata": {},
   "source": [
    "## Q1\n",
    "### Simulate a time series $y_t$ of length $n = 100$ following an ARMA(1,1) model with $\\phi = 0.8$ and $\\theta = 0.4$."
   ]
  },
  {
   "cell_type": "markdown",
   "metadata": {},
   "source": [
    "### (a) Calculate and plot the theoretical autocorrelation function for this model. Plot sufficient lags until the correlations are negligible.\n"
   ]
  },
  {
   "cell_type": "code",
   "execution_count": 2,
   "metadata": {
    "vscode": {
     "languageId": "r"
    }
   },
   "outputs": [],
   "source": [
    "set.seed(130930); options(repr.plot.width=10, repr.plot.height=3) # modify the plot size"
   ]
  },
  {
   "cell_type": "code",
   "execution_count": 3,
   "metadata": {
    "vscode": {
     "languageId": "r"
    }
   },
   "outputs": [],
   "source": [
    "series=arima.sim(n=100,list(ar=0.8,ma=-0.4))"
   ]
  },
  {
   "cell_type": "code",
   "execution_count": 4,
   "metadata": {
    "vscode": {
     "languageId": "r"
    }
   },
   "outputs": [
    {
     "data": {
      "image/png": "[encoded data removed]",
      "text/plain": [
       "plot without title"
      ]
     },
     "metadata": {
      "image/png": {
       "height": 180,
       "width": 600
      }
     },
     "output_type": "display_data"
    }
   ],
   "source": [
    "phi=0.8; \n",
    "theta=0.4; \n",
    "ACF=ARMAacf(ar=phi,ma=-theta,lag.max=30)\n",
    "plot(y=ACF[-1],x=1:30,xlab='Lag',ylab='ACF',type='h',ylim=c(-.2,.6)); abline(h=0)"
   ]
  },
  {
   "cell_type": "markdown",
   "metadata": {},
   "source": [
    "\n",
    "### (b) Calculate and plot the sample ACF for your simulated series. How well do the values and patterns match the theoretical ACF from part (a)?\n",
    "\n"
   ]
  },
  {
   "cell_type": "code",
   "execution_count": 5,
   "metadata": {
    "vscode": {
     "languageId": "r"
    }
   },
   "outputs": [
    {
     "data": {
      "image/png": "[encoded data removed]",
      "text/plain": [
       "Plot with title \"Series series\""
      ]
     },
     "metadata": {
      "image/png": {
       "height": 180,
       "width": 600
      }
     },
     "output_type": "display_data"
    }
   ],
   "source": [
    " acf(series,lag.max=30)"
   ]
  },
  {
   "cell_type": "markdown",
   "metadata": {},
   "source": [
    "The sample acf generally matches the pattern of the theoretical acf for the first 10 or so lags but, as is quite typical, it displays spurious autocorrelation at higher lags."
   ]
  },
  {
   "cell_type": "markdown",
   "metadata": {},
   "source": [
    "\n",
    "### (c) Calculate and interpret the sample EACF for this series. Does the EACF help you specify the correct orders for the model?\n"
   ]
  },
  {
   "cell_type": "code",
   "execution_count": 6,
   "metadata": {
    "vscode": {
     "languageId": "r"
    }
   },
   "outputs": [
    {
     "name": "stdout",
     "output_type": "stream",
     "text": [
      "AR/MA\n",
      "  0 1 2 3 4 5 6 7 8 9 10 11 12 13\n",
      "0 x x x o o o o o o o o  o  o  o \n",
      "1 x x o o o o o o o o o  o  o  o \n",
      "2 x o o o o o o o o o o  o  o  o \n",
      "3 x o o o o o o o o o o  o  o  o \n",
      "4 x x x o o o o o o o o  o  o  o \n",
      "5 x x o x o o o o o o o  o  o  o \n",
      "6 x x x o o o o o o o o  o  o  o \n",
      "7 x o o o o o o o o o o  o  o  o \n"
     ]
    }
   ],
   "source": [
    "eacf(series)"
   ]
  },
  {
   "cell_type": "markdown",
   "metadata": {},
   "source": [
    "This sample EACF points to the mixed ARMA(2,1)."
   ]
  },
  {
   "cell_type": "markdown",
   "metadata": {},
   "source": [
    "\n",
    "\n",
    "### (d) Repeat parts (b) and (c) with a new simulation using the same parameter values but sample size n = 48.\n"
   ]
  },
  {
   "cell_type": "code",
   "execution_count": 7,
   "metadata": {
    "vscode": {
     "languageId": "r"
    }
   },
   "outputs": [],
   "source": [
    "series=arima.sim(n=48,list(ar=0.8,ma=-0.4))"
   ]
  },
  {
   "cell_type": "code",
   "execution_count": 8,
   "metadata": {
    "vscode": {
     "languageId": "r"
    }
   },
   "outputs": [
    {
     "data": {
      "image/png": "[encoded data removed]",
      "text/plain": [
       "plot without title"
      ]
     },
     "metadata": {
      "image/png": {
       "height": 180,
       "width": 600
      }
     },
     "output_type": "display_data"
    }
   ],
   "source": [
    "phi=0.8; \n",
    "theta=0.4; \n",
    "ACF=ARMAacf(ar=phi,ma=-theta,lag.max=30)\n",
    "plot(y=ACF[-1],x=1:30,xlab='Lag',ylab='ACF',type='h',ylim=c(-.2,.6)); abline(h=0)"
   ]
  },
  {
   "cell_type": "code",
   "execution_count": 9,
   "metadata": {
    "vscode": {
     "languageId": "r"
    }
   },
   "outputs": [
    {
     "data": {
      "image/png": "[encoded data removed]",
      "text/plain": [
       "Plot with title \"Series series\""
      ]
     },
     "metadata": {
      "image/png": {
       "height": 180,
       "width": 600
      }
     },
     "output_type": "display_data"
    }
   ],
   "source": [
    " acf(series,lag.max=30)"
   ]
  },
  {
   "cell_type": "markdown",
   "metadata": {},
   "source": [
    "The sample acf generally matches the pattern of the theoretical acf for the first 5 or so lags but, as is quite typical, it displays spurious autocorrelation at higher lags."
   ]
  },
  {
   "cell_type": "code",
   "execution_count": 10,
   "metadata": {
    "vscode": {
     "languageId": "r"
    }
   },
   "outputs": [
    {
     "name": "stdout",
     "output_type": "stream",
     "text": [
      "AR/MA\n",
      "  0 1 2 3 4 5 6 7 8 9 10 11 12 13\n",
      "0 x o o o o o o o o o o  o  o  o \n",
      "1 x o o o o o o o o o o  o  o  o \n",
      "2 x x o o o o o o o o o  o  o  o \n",
      "3 o o o o o o o o o o o  o  o  o \n",
      "4 x o o o o o o o o o o  o  o  o \n",
      "5 o o x o x o o o o o o  o  o  o \n",
      "6 x o o o o o o o o o o  o  o  o \n",
      "7 x o o o o o o o o o o  o  o  o \n"
     ]
    }
   ],
   "source": [
    "eacf(series)"
   ]
  },
  {
   "cell_type": "markdown",
   "metadata": {},
   "source": [
    "This sample EACF points to the mixed ARMA(0,1)."
   ]
  },
  {
   "cell_type": "markdown",
   "metadata": {},
   "source": [
    "\n",
    "\n",
    "### (e) Repeat parts (b) and (c) with a new simulation using the same parameter values but sample size n = 200."
   ]
  },
  {
   "cell_type": "code",
   "execution_count": 11,
   "metadata": {
    "vscode": {
     "languageId": "r"
    }
   },
   "outputs": [],
   "source": [
    "series=arima.sim(n=200,list(ar=0.8,ma=-0.4))"
   ]
  },
  {
   "cell_type": "code",
   "execution_count": 12,
   "metadata": {
    "vscode": {
     "languageId": "r"
    }
   },
   "outputs": [
    {
     "data": {
      "image/png": "[encoded data removed]",
      "text/plain": [
       "plot without title"
      ]
     },
     "metadata": {
      "image/png": {
       "height": 180,
       "width": 600
      }
     },
     "output_type": "display_data"
    }
   ],
   "source": [
    "phi=0.8; \n",
    "theta=0.4; \n",
    "ACF=ARMAacf(ar=phi,ma=-theta,lag.max=30)\n",
    "plot(y=ACF[-1],x=1:30,xlab='Lag',ylab='ACF',type='h',ylim=c(-.2,.6)); abline(h=0)"
   ]
  },
  {
   "cell_type": "code",
   "execution_count": 13,
   "metadata": {
    "vscode": {
     "languageId": "r"
    }
   },
   "outputs": [
    {
     "data": {
      "image/png": "[encoded data removed]",
      "text/plain": [
       "Plot with title \"Series series\""
      ]
     },
     "metadata": {
      "image/png": {
       "height": 180,
       "width": 600
      }
     },
     "output_type": "display_data"
    }
   ],
   "source": [
    " acf(series,lag.max=30)"
   ]
  },
  {
   "cell_type": "markdown",
   "metadata": {},
   "source": [
    "The sample acf generally matches the pattern of the theoretical acf for the first 10 or so lags but, as is quite typical, it displays spurious autocorrelation at higher lags."
   ]
  },
  {
   "cell_type": "code",
   "execution_count": 14,
   "metadata": {
    "vscode": {
     "languageId": "r"
    }
   },
   "outputs": [
    {
     "name": "stdout",
     "output_type": "stream",
     "text": [
      "AR/MA\n",
      "  0 1 2 3 4 5 6 7 8 9 10 11 12 13\n",
      "0 x x x x x x x x x o o  o  o  o \n",
      "1 x o x o o x x o o o o  o  o  o \n",
      "2 o x o o o x o o o o o  o  o  o \n",
      "3 x x x o o x o o o o o  o  o  o \n",
      "4 o x o o o x o o o o o  o  o  o \n",
      "5 o o x o x o o o o o o  o  o  o \n",
      "6 o o x o x x o o o o o  o  o  o \n",
      "7 x x o x x o o o o o o  o  o  o \n"
     ]
    }
   ],
   "source": [
    "eacf(series)"
   ]
  },
  {
   "cell_type": "markdown",
   "metadata": {},
   "source": [
    "This sample EACF points to the mixed ARMA(1,1) quite well."
   ]
  },
  {
   "cell_type": "markdown",
   "metadata": {},
   "source": [
    "## Q2\n",
    "###  Simulate an ARMA(1,1) series with $\\phi = 0.7$, $\\theta = −0.6$, $n = 48$ but with error terms from a t-distribution with 6 degrees of freedom."
   ]
  },
  {
   "cell_type": "code",
   "execution_count": 15,
   "metadata": {
    "vscode": {
     "languageId": "r"
    }
   },
   "outputs": [],
   "source": [
    "n=48\n",
    "series=arima.sim(n=n,list(ar=0.7,ma=0.6),innov=rt(n,6))"
   ]
  },
  {
   "cell_type": "markdown",
   "metadata": {},
   "source": [
    "### (a) Display the sample EACF of the series. Is an ARMA(1,1) model suggested?"
   ]
  },
  {
   "cell_type": "code",
   "execution_count": 16,
   "metadata": {
    "vscode": {
     "languageId": "r"
    }
   },
   "outputs": [
    {
     "name": "stdout",
     "output_type": "stream",
     "text": [
      "AR/MA\n",
      "  0 1 2 3 4 5 6 7 8 9 10 11 12 13\n",
      "0 x x x o o o o o o x x  x  x  x \n",
      "1 x o o o o o o o o o o  o  o  o \n",
      "2 x x o x o o o o o o o  o  o  o \n",
      "3 x o o x o o o o o o o  o  o  o \n",
      "4 x o o o o o o o o o o  o  o  o \n",
      "5 x o o o o o o o o o o  o  o  o \n",
      "6 x o o o o o o o o o o  o  o  o \n",
      "7 o x o o o o o o o o o  o  o  o \n"
     ]
    }
   ],
   "source": [
    " eacf(series)"
   ]
  },
  {
   "cell_type": "markdown",
   "metadata": {},
   "source": [
    "The sample eacf provides a rather clear indication of an ARMA(1,1) model."
   ]
  },
  {
   "cell_type": "markdown",
   "metadata": {},
   "source": [
    "###  (b) Estimate $\\phi$ and $\\theta$ from the series and comment on the results"
   ]
  },
  {
   "cell_type": "code",
   "execution_count": 17,
   "metadata": {
    "vscode": {
     "languageId": "r"
    }
   },
   "outputs": [
    {
     "data": {
      "text/plain": [
       "\n",
       "Call:\n",
       "arima(x = series, order = c(1, 0, 1))\n",
       "\n",
       "Coefficients:\n",
       "         ar1    ma1  intercept\n",
       "      0.6773  0.602    -0.0678\n",
       "s.e.  0.1148  0.099     0.8975\n",
       "\n",
       "sigma^2 estimated as 1.73:  log likelihood = -82.13,  aic = 170.27"
      ]
     },
     "metadata": {},
     "output_type": "display_data"
    }
   ],
   "source": [
    " arima(series,order=c(1,0,1))"
   ]
  },
  {
   "cell_type": "markdown",
   "metadata": {},
   "source": [
    "In spite of the nonnormal errors, maximum “likelihood” produces excellent estimates of the $\\phi$ and $\\theta$ parameters."
   ]
  },
  {
   "cell_type": "markdown",
   "metadata": {},
   "source": [
    "## Q3\n",
    "### The data file named robot contains a time series obtained from an industrial robot. The robot was put through a sequence of maneuvers, and the distance from a desired ending point was recorded in inches. "
   ]
  },
  {
   "cell_type": "markdown",
   "metadata": {},
   "source": [
    "### (a) Display the time series plot of the data. Based on this information, do these data appear to come from a stationary or nonstationary process?"
   ]
  },
  {
   "cell_type": "code",
   "execution_count": 18,
   "metadata": {
    "vscode": {
     "languageId": "r"
    }
   },
   "outputs": [],
   "source": [
    "data(robot)"
   ]
  },
  {
   "cell_type": "code",
   "execution_count": 19,
   "metadata": {
    "vscode": {
     "languageId": "r"
    }
   },
   "outputs": [
    {
     "data": {
      "image/png": "[encoded data removed]",
      "text/plain": [
       "plot without title"
      ]
     },
     "metadata": {
      "image/png": {
       "height": 180,
       "width": 600
      }
     },
     "output_type": "display_data"
    }
   ],
   "source": [
    "plot(robot,type='o',ylab='Robot End Position')"
   ]
  },
  {
   "cell_type": "markdown",
   "metadata": {},
   "source": [
    "From this plot we might try a stationary model but there is also enough “drift” that we might also suspect nonstationarity."
   ]
  },
  {
   "cell_type": "markdown",
   "metadata": {},
   "source": [
    "### (b) Calculate and plot the sample ACF and PACF for these data. Based on this additional information, do these data appear to come from a stationary or nonstationary process?"
   ]
  },
  {
   "cell_type": "code",
   "execution_count": 20,
   "metadata": {
    "vscode": {
     "languageId": "r"
    }
   },
   "outputs": [
    {
     "data": {
      "image/png": "[encoded data removed]",
      "text/plain": [
       "Plot with title \"Series robot\""
      ]
     },
     "metadata": {
      "image/png": {
       "height": 180,
       "width": 600
      }
     },
     "output_type": "display_data"
    },
    {
     "data": {
      "image/png": "[encoded data removed]",
      "text/plain": [
       "Plot with title \"Series  robot\""
      ]
     },
     "metadata": {
      "image/png": {
       "height": 180,
       "width": 600
      }
     },
     "output_type": "display_data"
    }
   ],
   "source": [
    "acf(robot)\n",
    "pacf(robot)\n"
   ]
  },
  {
   "cell_type": "markdown",
   "metadata": {},
   "source": [
    "These plots are are not especially definitive, but the pacf suggests possibly an AR(3) model for the series"
   ]
  },
  {
   "cell_type": "markdown",
   "metadata": {},
   "source": [
    "### (c) Calculate and interpret the sample EACF"
   ]
  },
  {
   "cell_type": "code",
   "execution_count": 21,
   "metadata": {
    "vscode": {
     "languageId": "r"
    }
   },
   "outputs": [
    {
     "name": "stdout",
     "output_type": "stream",
     "text": [
      "AR/MA\n",
      "  0 1 2 3 4 5 6 7 8 9 10 11 12 13\n",
      "0 x x x x x x x x x o x  x  x  x \n",
      "1 x o o o o o o o o o o  o  o  o \n",
      "2 x x o o o o o o o o o  o  o  o \n",
      "3 x x o o o o o o o o o  o  o  o \n",
      "4 x x x x o o o o o o o  o  x  o \n",
      "5 x x x o o o o o o o o  o  x  o \n",
      "6 x o o o o x o o o o o  o  o  o \n",
      "7 x o o x o x x o o o o  o  o  o \n"
     ]
    }
   ],
   "source": [
    "eacf(robot)"
   ]
  },
  {
   "cell_type": "markdown",
   "metadata": {},
   "source": [
    "The EACF suggests an ARMA(1,1) model."
   ]
  },
  {
   "cell_type": "markdown",
   "metadata": {},
   "source": [
    "### (d.1) Estimate the parameters of an AR(1) model for these data."
   ]
  },
  {
   "cell_type": "code",
   "execution_count": 27,
   "metadata": {
    "vscode": {
     "languageId": "r"
    }
   },
   "outputs": [
    {
     "data": {
      "text/plain": [
       "\n",
       "Call:\n",
       "arima(x = robot, order = c(1, 0, 0))\n",
       "\n",
       "Coefficients:\n",
       "         ar1  intercept\n",
       "      0.3074     0.0015\n",
       "s.e.  0.0528     0.0002\n",
       "\n",
       "sigma^2 estimated as 6.482e-06:  log likelihood = 1475.54,  aic = -2947.08"
      ]
     },
     "metadata": {},
     "output_type": "display_data"
    }
   ],
   "source": [
    "ar1 = arima(robot,order=c(1,0,0))\n",
    "ar1"
   ]
  },
  {
   "cell_type": "markdown",
   "metadata": {},
   "source": [
    "$$y_t=0.3074y_{t-1}+a_t+0.0015$$"
   ]
  },
  {
   "cell_type": "markdown",
   "metadata": {},
   "source": [
    "### (d.2) Estimate the parameters of an IMA(1,1) model for these data."
   ]
  },
  {
   "cell_type": "code",
   "execution_count": 40,
   "metadata": {
    "vscode": {
     "languageId": "r"
    }
   },
   "outputs": [
    {
     "data": {
      "text/plain": [
       "\n",
       "Call:\n",
       "arima(x = robot, order = c(0, 1, 1))\n",
       "\n",
       "Coefficients:\n",
       "          ma1\n",
       "      -0.8713\n",
       "s.e.   0.0389\n",
       "\n",
       "sigma^2 estimated as 6.069e-06:  log likelihood = 1480.95,  aic = -2959.9"
      ]
     },
     "metadata": {},
     "output_type": "display_data"
    }
   ],
   "source": [
    "ima11 = arima(robot,order=c(0,1,1))\n",
    "ima11"
   ]
  },
  {
   "cell_type": "markdown",
   "metadata": {},
   "source": [
    "$$y_t=a_t-0.8713a_{t-1}$$"
   ]
  },
  {
   "cell_type": "markdown",
   "metadata": {},
   "source": [
    "### (e) Compare the results from part (d) in terms of AIC."
   ]
  },
  {
   "cell_type": "markdown",
   "metadata": {},
   "source": [
    "Although the log likelihoods and AIC values are very close to each other, the IMA(1,1) model has a slightly smaller AIC value, implying that the IMA(1,1) model is slightly better then the AR(1) model. \n",
    "The AR(1) model uses one more independent variable (intercept) than the IMA(1,1) model."
   ]
  },
  {
   "cell_type": "markdown",
   "metadata": {},
   "source": []
  }
 ],
 "metadata": {
  "kernelspec": {
   "display_name": "R",
   "language": "R",
   "name": "ir"
  },
  "language_info": {
   "codemirror_mode": "r",
   "file_extension": ".r",
   "mimetype": "text/x-r-source",
   "name": "R",
   "pygments_lexer": "r",
   "version": "4.2.1"
  },
  "orig_nbformat": 4
 },
 "nbformat": 4,
 "nbformat_minor": 2
}
