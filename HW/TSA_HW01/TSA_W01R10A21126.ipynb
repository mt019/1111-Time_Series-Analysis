{
 "cells": [
  {
   "cell_type": "markdown",
   "metadata": {},
   "source": [
    "# Time Series Analysics\n",
    "## 111-1 Homework #01\n"
   ]
  },
  {
   "cell_type": "markdown",
   "metadata": {},
   "source": [
    "> WANG, YIFAN (R10A21126@ntu.edu.tw)  \n",
    "> 2022-09-07"
   ]
  },
  {
   "cell_type": "markdown",
   "metadata": {},
   "source": [
    "> * I use R in Jupyter Notebook\n",
    "---"
   ]
  },
  {
   "cell_type": "markdown",
   "metadata": {},
   "source": [
    "## 1."
   ]
  },
  {
   "cell_type": "code",
   "execution_count": 99,
   "metadata": {
    "vscode": {
     "languageId": "r"
    }
   },
   "outputs": [],
   "source": [
    "library(latex2exp)"
   ]
  },
  {
   "cell_type": "markdown",
   "metadata": {},
   "source": [
    "$$Y_t = t+10\\sin\\left[ \\pi \\left(\\frac{1}{2}\\cos\\left(\\frac{t}{2}\\right)+1+ \\Phi \\right)\\right] \\quad \\text{for}\\,\\, t = 1,2,\\dots,48,$$\n",
    "where $\\Phi$ is generated from a uniform distribution on the interval $[-0.1,0.1]$."
   ]
  },
  {
   "cell_type": "code",
   "execution_count": 104,
   "metadata": {
    "vscode": {
     "languageId": "r"
    }
   },
   "outputs": [
    {
     "data": {
      "image/png": "[encoded data removed]",
      "text/plain": [
       "plot without title"
      ]
     },
     "metadata": {
      "image/png": {
       "height": 420,
       "width": 420
      }
     },
     "output_type": "display_data"
    }
   ],
   "source": [
    "y_t = array(48)\n",
    "for (t in 1:48){\n",
    "    y_t[t] = t + 10*sinpi(cos(t/2)/2+1+0.1*runif(1,-1,1))\n",
    "    }\n",
    "plot(y_t,xlab = \"t\",ylab = TeX(r'($y_t$)'),type = 'b',asp = 0.5,cex = 0.5)\n",
    "    "
   ]
  },
  {
   "cell_type": "markdown",
   "metadata": {},
   "source": [
    "## 2. \n",
    "Simulate a time series of length 48 following the settings below  \n",
    "$$Y_t = \\cos\\left[2 \\pi \\left(\\frac{t}{12}+ \\Phi \\right)\\right] \\quad \\text{for}\\,\\, t = 0,1,2,\\dots,47,$$\n",
    "where $\\Phi$ is selected from a uniform distribution on the interval $[0,1]$."
   ]
  },
  {
   "cell_type": "code",
   "execution_count": 109,
   "metadata": {
    "vscode": {
     "languageId": "r"
    }
   },
   "outputs": [
    {
     "data": {
      "image/png": "[encoded data removed]",
      "text/plain": [
       "plot without title"
      ]
     },
     "metadata": {
      "image/png": {
       "height": 420,
       "width": 420
      }
     },
     "output_type": "display_data"
    }
   ],
   "source": [
    "y_t2 = array(48)\n",
    "\n",
    "for (t in 0:47){\n",
    "    y_t2[t] = cos(2*pi*(t/12+runif(1)))\n",
    "    }\n",
    "plot(y_t2,xlab = 't',ylab = TeX(r'($y_t$)'),type = 'b',cex = 0.5)"
   ]
  },
  {
   "cell_type": "markdown",
   "metadata": {},
   "source": [
    "## 3.\n",
    "X and Y are two dependent random variables and $\\text{Var}[X] = \\text{Var}[Y]$, find $\\text{Cov}[X+Y,X-Y]$ "
   ]
  },
  {
   "cell_type": "markdown",
   "metadata": {},
   "source": [
    "\n",
    "$$\n",
    "\\begin{aligned}\n",
    "\\text{Cov}[X+Y,X-Y] &= \\text{Cov}(X,X-Y) + \\text{Cov}(Y,X-Y) \\quad \\text{(Bi-linear Property of Covariance)}\\\\\n",
    "                    &= \\text{Cov}(X,X) - \\text{Cov}(X,Y) + \\text{Cov}(Y,X) - \\text{Cov}(Y, Y) \\\\\n",
    "                    &= \\text{Var}(X) -\\text{Var}(Y)\\\\\n",
    "                    &=0\n",
    "\\end{aligned}\n",
    "$$"
   ]
  },
  {
   "cell_type": "markdown",
   "metadata": {},
   "source": [
    "\n",
    "## 4.  \n",
    "Suppose $E[X] = 3,\\text{Var}[x] = 9,E[Y] = 4,\\text{Var}[Y] = 16$, and $\\text{Corr}[X,Y] = 0.25$. Find:  \n",
    "a. $\\text{Var}[X+Y]$  \n",
    "b. $\\text{Cov}[X,X+Y]$  \n",
    "c. $\\text{Corr}(X+Y,X-Y)$\n",
    "\n",
    "\n"
   ]
  },
  {
   "cell_type": "markdown",
   "metadata": {},
   "source": [
    "a.\n",
    "\n",
    "$$\n",
    "\\text{Corr}[X,Y] = \\frac{\\text{Cov}[X,Y]}{\\text{std}[X]\\text{std}[Y]}\n",
    "$$\n",
    "$$\n",
    "\\begin{align*}\n",
    "\t\\text{Cov}[X,Y] &= \\text{Corr}[X,Y]\\sqrt{\\text{Var}[X]\\text{Var}[Y]}\\\\\n",
    "                    &= 0.25*\\sqrt{9*16}\\\\\n",
    "                    &= 3\\\\\n",
    "\\end{align*}\n",
    "\n",
    "\n",
    "\n",
    "$$\n",
    "$$\n",
    "\\begin{aligned}\n",
    "\\text{Var}[X+Y] &= \\text{Var}[X]+\\text{Var}[Y]+2\\text{Cov}[X,Y]\\\\\n",
    "                &= 9+16+2*3\\\\\n",
    "                &= 31\n",
    "\\end{aligned}$$\n"
   ]
  },
  {
   "cell_type": "markdown",
   "metadata": {},
   "source": [
    "b.\n",
    "$$\n",
    "\\begin{align*}\n",
    "\t\\text{Cov}[X,X+Y] &= \\text{Cov}[X,X]+\\text{Cov}[X,Y]\\\\\n",
    "\t\t\t\t\t  &=\\text{Var}[X] + \\text{Cov}[X,Y]\\\\\n",
    "\t\t\t\t\t  &=9+3\\\\\n",
    "\t\t\t\t\t  &=12\n",
    "\\end{align*}\n",
    "$$ "
   ]
  },
  {
   "cell_type": "markdown",
   "metadata": {},
   "source": [
    "c.\n",
    "$$\n",
    "\\begin{aligned}\n",
    "\\text{Var}[X-Y] &= \\text{Var}[X]+\\text{Var}[Y]-2\\text{Cov}[X,Y]\\\\\n",
    "                &= 9+16-2*3\\\\\n",
    "                &= 19\n",
    "\\end{aligned}$$\n",
    "$$\n",
    "\\begin{align*}\n",
    "\t\\text{Corr}(X+Y,X-Y) &= \\frac{\\text{Cov}[X+Y,X-Y]}{\\text{std}[X+Y]\\text{std}[X-Y]}\\\\\n",
    "\t\t\t\t\t\t&=\\frac{\\text{Var}[X] -\\text{Var}[Y]}{\\sqrt{\\text{Var}[X+Y]\\text{Var}[X-Y]}}\\\\\n",
    "\t\t\t\t\t\t&=\\frac{9-16}{\\sqrt{31*19}}\\\\\n",
    "\t\t\t\t\t\t&=-0.2884\n",
    "\\end{align*}\n",
    "$$\n"
   ]
  }
 ],
 "metadata": {
  "kernelspec": {
   "display_name": "R",
   "language": "R",
   "name": "ir"
  },
  "language_info": {
   "codemirror_mode": "r",
   "file_extension": ".r",
   "mimetype": "text/x-r-source",
   "name": "R",
   "pygments_lexer": "r",
   "version": "4.2.1"
  },
  "orig_nbformat": 4
 },
 "nbformat": 4,
 "nbformat_minor": 2
}
