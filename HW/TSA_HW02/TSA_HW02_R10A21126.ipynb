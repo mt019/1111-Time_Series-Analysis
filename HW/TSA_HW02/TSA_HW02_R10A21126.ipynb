{
 "cells": [
  {
   "cell_type": "markdown",
   "metadata": {},
   "source": [
    "# Time Series Analysics\n",
    "## 111-1 Homework #02\n"
   ]
  },
  {
   "cell_type": "markdown",
   "metadata": {},
   "source": [
    "> WANG, YIFAN (R10A21126@ntu.edu.tw)  \n",
    "> 2022-09-13\n"
   ]
  },
  {
   "cell_type": "markdown",
   "metadata": {},
   "source": [
    "> * I use R in Jupyter Notebook\n",
    "---"
   ]
  },
  {
   "cell_type": "markdown",
   "metadata": {},
   "source": [
    "## 1."
   ]
  },
  {
   "cell_type": "markdown",
   "metadata": {},
   "source": [
    " Take what you have simulated for the Q1 of HW#01 and add a proper disturbance to it, for example, $\\epsilon_t \\sim N (0, 0.1^2)$, to make it more fluctuating and, therefore, unpredictable. Now, let’s construct a mathematical\n",
    "model to predict it."
   ]
  },
  {
   "cell_type": "markdown",
   "metadata": {
    "vscode": {
     "languageId": "r"
    }
   },
   "source": [
    "a. Extend  the  time  series  to $y_{54}$ using  the  same  formula/procedures in  HW#01.  \n",
    "b. Yefine a  proper disturbance for  your  time  series.  \n",
    "c. Identify  the  number  of  periods  in  a  season and  then deseasonalize  the  series using $y_1, y_2,\\dots, y_{48}$.  \n",
    "d. Calculate  the  seasonality  factors  (depending  on  how  many  periods  in  a  season) using $y_1, y_2,\\dots, y_{48}$.  \n",
    "e. Finalize  the  model  and  validate the  model  performance  via  MSE  and  MAPE using $y_1, y_2,\\dots, y_{48}$.  \n",
    "f. Use  the  static  model  to  calculate $  \\hat{y}_{49},\\hat{y}_{50},\\dots,\\hat{y}_{54} $. Compare  with  the ground  truth  of  ${y}_{49},  y_{50},\\dots,{y}_{54} $ and  calculate  the  prediction  MSE  and  MAPE  accordingly.  \n",
    "g. Modify  the  disturbance  in  (a)  to  change  series  (can  be  more  or  less  fluctuating).  Re-run  the  procedures\n",
    "(b)-(f).  What  can  you  conclude  when  comparing  to  the  results  in  (e) &  (f) with  the  previous  disturbance."
   ]
  },
  {
   "cell_type": "code",
   "execution_count": 8,
   "metadata": {
    "vscode": {
     "languageId": "r"
    }
   },
   "outputs": [],
   "source": [
    "library(latex2exp)\n"
   ]
  },
  {
   "cell_type": "markdown",
   "metadata": {},
   "source": [
    "## 1.a Without disturbance"
   ]
  },
  {
   "cell_type": "markdown",
   "metadata": {},
   "source": [
    "$$Y_t = 20+t+10\\sin\\left[ \\pi \\left(\\frac{1}{2}\\cos\\left(\\frac{t}{2}\\right)+1 \\right)\\right] \\quad \\text{for}\\,\\, t = 1,2,\\dots,54$$\n"
   ]
  },
  {
   "cell_type": "code",
   "execution_count": 9,
   "metadata": {
    "vscode": {
     "languageId": "r"
    }
   },
   "outputs": [
    {
     "data": {
      "image/png": "[encoded data removed]",
      "text/plain": [
       "plot without title"
      ]
     },
     "metadata": {
      "image/png": {
       "height": 420,
       "width": 420
      }
     },
     "output_type": "display_data"
    }
   ],
   "source": [
    "y_t_a = array(54)\n",
    "set.seed(23)\n",
    "for (t in 1:54){\n",
    "    y_t_a[t] = 20+t + 10*sinpi(cos(t/2)/2+1) \n",
    "    }\n",
    "plot(y_t_a,xlab = \"t\",ylab = TeX(r'($y_t$)'),type = 'b', cex = 0.5)\n",
    "    "
   ]
  },
  {
   "cell_type": "markdown",
   "metadata": {},
   "source": [
    "## 1.b With disturbance "
   ]
  },
  {
   "cell_type": "markdown",
   "metadata": {},
   "source": [
    "$$Y_t = 20+t+10\\sin\\left[ \\pi \\left(\\frac{1}{2}\\cos\\left(\\frac{t}{2}\\right)+1 \\right)\\right]+ \\epsilon_t \\quad \\text{for}\\,\\, t = 1,2,\\dots,54,$$\n",
    "where $\\epsilon_t$ is generated from a normal distribution $N(\\mu = 0,\\sigma= 10)$."
   ]
  },
  {
   "cell_type": "code",
   "execution_count": 10,
   "metadata": {
    "vscode": {
     "languageId": "r"
    }
   },
   "outputs": [
    {
     "data": {
      "image/png": "[encoded data removed]",
      "text/plain": [
       "plot without title"
      ]
     },
     "metadata": {
      "image/png": {
       "height": 420,
       "width": 420
      }
     },
     "output_type": "display_data"
    }
   ],
   "source": [
    "y_t = array(54)\n",
    "set.seed(23)\n",
    "for (t in 1:54){\n",
    "    y_t[t] = 20+t + 10*sinpi(cos(t/2)/2+1) + rnorm(1,mean = 0,sd = 10)\n",
    "    }\n",
    "plot(y_t,xlab = \"t\",ylab = TeX(r'($y_t$)'),type = 'b', cex = 0.5)\n",
    "    "
   ]
  },
  {
   "cell_type": "code",
   "execution_count": 11,
   "metadata": {
    "vscode": {
     "languageId": "r"
    }
   },
   "outputs": [
    {
     "data": {
      "text/html": [
       "<style>\n",
       ".list-inline {list-style: none; margin:0; padding: 0}\n",
       ".list-inline>li {display: inline-block}\n",
       ".list-inline>li:not(:last-child)::after {content: \"\\00b7\"; padding: 0 .5ex}\n",
       "</style>\n",
       "<ol class=list-inline><li>13.1164370711084</li><li>10.1489287556822</li><li>31.0238185883322</li><li>48.015015077164</li><li>44.4821520244021</li><li>47.0736693472895</li><li>34.1693647387173</li><li>46.7482213177055</li><li>32.7053698699927</li><li>41.4480231407584</li><li>24.2118209377626</li><li>11.5542116966742</li><li>20.1198751535529</li><li>29.5534240937656</li><li>17.6563868461846</li><li>41.3470325915179</li><li>39.9069220778366</li><li>43.479584541564</li><li>43.0067732250638</li><li>62.6279726098902</li><li>56.148110823505</li><li>36.2703308615064</li><li>44.0009733335115</li><li>22.6399975605085</li><li>29.691859741904</li><li>36.0949066273609</li><li>33.8313604626106</li><li>58.2972884930595</li><li>47.6849520582198</li><li>60.9622012499553</li><li>55.4622206502166</li><li>62.9597055075933</li><li>50.4604374962847</li><li>45.6896547025791</li><li>49.599782244763</li><li>49.1650516432742</li><li>60.1215586604571</li><li>34.5722199380923</li><li>58.1207848385037</li><li>56.3486670112679</li><li>72.6691015649333</li><li>82.8718289095743</li><li>82.2876868639141</li><li>64.1437449394835</li><li>62.6439543182224</li><li>57.1341279733672</li><li>68.8940367244605</li><li>61.5980189646744</li><li>64.5935846403642</li><li>57.7054183718682</li><li>73.669970002591</li><li>61.114626015975</li><li>49.8998245097115</li><li>85.4402968242107</li></ol>\n"
      ],
      "text/latex": [
       "\\begin{enumerate*}\n",
       "\\item 13.1164370711084\n",
       "\\item 10.1489287556822\n",
       "\\item 31.0238185883322\n",
       "\\item 48.015015077164\n",
       "\\item 44.4821520244021\n",
       "\\item 47.0736693472895\n",
       "\\item 34.1693647387173\n",
       "\\item 46.7482213177055\n",
       "\\item 32.7053698699927\n",
       "\\item 41.4480231407584\n",
       "\\item 24.2118209377626\n",
       "\\item 11.5542116966742\n",
       "\\item 20.1198751535529\n",
       "\\item 29.5534240937656\n",
       "\\item 17.6563868461846\n",
       "\\item 41.3470325915179\n",
       "\\item 39.9069220778366\n",
       "\\item 43.479584541564\n",
       "\\item 43.0067732250638\n",
       "\\item 62.6279726098902\n",
       "\\item 56.148110823505\n",
       "\\item 36.2703308615064\n",
       "\\item 44.0009733335115\n",
       "\\item 22.6399975605085\n",
       "\\item 29.691859741904\n",
       "\\item 36.0949066273609\n",
       "\\item 33.8313604626106\n",
       "\\item 58.2972884930595\n",
       "\\item 47.6849520582198\n",
       "\\item 60.9622012499553\n",
       "\\item 55.4622206502166\n",
       "\\item 62.9597055075933\n",
       "\\item 50.4604374962847\n",
       "\\item 45.6896547025791\n",
       "\\item 49.599782244763\n",
       "\\item 49.1650516432742\n",
       "\\item 60.1215586604571\n",
       "\\item 34.5722199380923\n",
       "\\item 58.1207848385037\n",
       "\\item 56.3486670112679\n",
       "\\item 72.6691015649333\n",
       "\\item 82.8718289095743\n",
       "\\item 82.2876868639141\n",
       "\\item 64.1437449394835\n",
       "\\item 62.6439543182224\n",
       "\\item 57.1341279733672\n",
       "\\item 68.8940367244605\n",
       "\\item 61.5980189646744\n",
       "\\item 64.5935846403642\n",
       "\\item 57.7054183718682\n",
       "\\item 73.669970002591\n",
       "\\item 61.114626015975\n",
       "\\item 49.8998245097115\n",
       "\\item 85.4402968242107\n",
       "\\end{enumerate*}\n"
      ],
      "text/markdown": [
       "1. 13.1164370711084\n",
       "2. 10.1489287556822\n",
       "3. 31.0238185883322\n",
       "4. 48.015015077164\n",
       "5. 44.4821520244021\n",
       "6. 47.0736693472895\n",
       "7. 34.1693647387173\n",
       "8. 46.7482213177055\n",
       "9. 32.7053698699927\n",
       "10. 41.4480231407584\n",
       "11. 24.2118209377626\n",
       "12. 11.5542116966742\n",
       "13. 20.1198751535529\n",
       "14. 29.5534240937656\n",
       "15. 17.6563868461846\n",
       "16. 41.3470325915179\n",
       "17. 39.9069220778366\n",
       "18. 43.479584541564\n",
       "19. 43.0067732250638\n",
       "20. 62.6279726098902\n",
       "21. 56.148110823505\n",
       "22. 36.2703308615064\n",
       "23. 44.0009733335115\n",
       "24. 22.6399975605085\n",
       "25. 29.691859741904\n",
       "26. 36.0949066273609\n",
       "27. 33.8313604626106\n",
       "28. 58.2972884930595\n",
       "29. 47.6849520582198\n",
       "30. 60.9622012499553\n",
       "31. 55.4622206502166\n",
       "32. 62.9597055075933\n",
       "33. 50.4604374962847\n",
       "34. 45.6896547025791\n",
       "35. 49.599782244763\n",
       "36. 49.1650516432742\n",
       "37. 60.1215586604571\n",
       "38. 34.5722199380923\n",
       "39. 58.1207848385037\n",
       "40. 56.3486670112679\n",
       "41. 72.6691015649333\n",
       "42. 82.8718289095743\n",
       "43. 82.2876868639141\n",
       "44. 64.1437449394835\n",
       "45. 62.6439543182224\n",
       "46. 57.1341279733672\n",
       "47. 68.8940367244605\n",
       "48. 61.5980189646744\n",
       "49. 64.5935846403642\n",
       "50. 57.7054183718682\n",
       "51. 73.669970002591\n",
       "52. 61.114626015975\n",
       "53. 49.8998245097115\n",
       "54. 85.4402968242107\n",
       "\n",
       "\n"
      ],
      "text/plain": [
       " [1] 13.11644 10.14893 31.02382 48.01502 44.48215 47.07367 34.16936 46.74822\n",
       " [9] 32.70537 41.44802 24.21182 11.55421 20.11988 29.55342 17.65639 41.34703\n",
       "[17] 39.90692 43.47958 43.00677 62.62797 56.14811 36.27033 44.00097 22.64000\n",
       "[25] 29.69186 36.09491 33.83136 58.29729 47.68495 60.96220 55.46222 62.95971\n",
       "[33] 50.46044 45.68965 49.59978 49.16505 60.12156 34.57222 58.12078 56.34867\n",
       "[41] 72.66910 82.87183 82.28769 64.14374 62.64395 57.13413 68.89404 61.59802\n",
       "[49] 64.59358 57.70542 73.66997 61.11463 49.89982 85.44030"
      ]
     },
     "metadata": {},
     "output_type": "display_data"
    }
   ],
   "source": [
    "y_t"
   ]
  },
  {
   "cell_type": "markdown",
   "metadata": {},
   "source": [
    "##  1.c\n",
    "p = 12 (# of periods in a season)  \n",
    "There are 12 periods in a season.  \n",
    "Suppose we collect data every month, we have a 12-month season.\n",
    "### De-seasonalize the series (using $y_1,y_2,\\dots, y_{48}$)\n",
    "$$\n",
    "\\bar{Y}_t = \n",
    "\\begin{cases}\n",
    "\n",
    "\\frac{\\left[Y_{t-(\\frac{p}{2})}+Y_{t+(\\frac{p}{2})}+\\sum^{t-1+(\\frac{p}{2})}_{i = t+1-(\\frac{p}{2})}2Y_i\\right]}{2p} & p \\text{ is even}\\\\\n",
    "\\frac{\\sum^{t+(\\frac{p-1}{2})}_{i = t-(\\frac{p-1}{2})}Y_i}{p} & p \\text{ is odd}\n",
    "\\end{cases}\n",
    "$$\n",
    "In this case ($p = 12$), for $7\\leq t\\leq 42$, we have\n",
    "$$\\bar{Y}_t = \\frac{\\left[Y_{t-6}+Y_{t+6}+\\sum^{t-1+6}_{i = t+1-6}2Y_i\\right]}{2*12}$$\n"
   ]
  },
  {
   "cell_type": "markdown",
   "metadata": {},
   "source": [
    "For $7\\leq t\\leq 42$, we run regression with $t$ and $\\bar{Y}_t$ and get the coefficients   \n",
    "L = \t22.03068693  \n",
    "T = \t0.915279317\n"
   ]
  },
  {
   "cell_type": "markdown",
   "metadata": {},
   "source": [
    "Then we have deseasonalized $ \\hat{\\bar{Y}}_t $ with $ \\hat{\\bar{Y}}_t = L+tT $ for $1\\leq t\\leq 48$"
   ]
  },
  {
   "cell_type": "markdown",
   "metadata": {},
   "source": [
    "## 1.d"
   ]
  },
  {
   "cell_type": "markdown",
   "metadata": {},
   "source": [
    "For $1\\leq t\\leq 48$"
   ]
  },
  {
   "cell_type": "markdown",
   "metadata": {},
   "source": [
    "$$S_t =  \\frac{\\bar{Y}_t}{\\hat{\\bar{Y}}_t}\n",
    "$$"
   ]
  },
  {
   "cell_type": "markdown",
   "metadata": {},
   "source": [
    "Then we get the average of the seasonality effect for each period in a season as $\\bar{S}_t$.   For example, $\\bar{S}_1 = \\frac{1}{4}(S_1+S_{13}+S_{25}+S_{37})$. The values of  $\\bar{S}_t$ are the same for each season. They are also the same for the testing data."
   ]
  },
  {
   "cell_type": "markdown",
   "metadata": {},
   "source": [
    "## 1.e"
   ]
  },
  {
   "cell_type": "markdown",
   "metadata": {},
   "source": [
    "For $1\\leq t\\leq 48$"
   ]
  },
  {
   "cell_type": "markdown",
   "metadata": {},
   "source": [
    "$$\\hat{Y}_t =\\hat{\\bar{Y}}_t * \\bar{S}_t $$\n",
    "$$E_t = Y_t-\\hat{Y}_t$$"
   ]
  },
  {
   "cell_type": "markdown",
   "metadata": {},
   "source": [
    "We now caculate MSE and MAPE for $y_1,y_2,\\dots, y_{48}$"
   ]
  },
  {
   "cell_type": "markdown",
   "metadata": {},
   "source": [
    "MSE = 82.18\t  \n",
    "MAPE\t = \t20.30%\t\n",
    "\t\t\t\n",
    "\t\t\n"
   ]
  },
  {
   "cell_type": "markdown",
   "metadata": {},
   "source": [
    "## 1.f"
   ]
  },
  {
   "cell_type": "markdown",
   "metadata": {},
   "source": [
    "For $49\\leq t\\leq 54$"
   ]
  },
  {
   "cell_type": "markdown",
   "metadata": {},
   "source": [
    "$$ \\hat{\\bar{Y}}_t = L+tT $$\n",
    "$$\\hat{Y}_t =\\hat{\\bar{Y}}_t * \\bar{S}_t $$\n",
    "$$E_t = Y_t-\\hat{Y}_t$$"
   ]
  },
  {
   "cell_type": "markdown",
   "metadata": {},
   "source": [
    "We now caculate MSE and MAPE for $y_{49},y_{50},\\dots, y_{54}$"
   ]
  },
  {
   "cell_type": "markdown",
   "metadata": {},
   "source": [
    "MSE = 495.07\t  \n",
    "MAPE\t = \t33.53%\t\n",
    "\t\t\t\n",
    "\t\t\n"
   ]
  },
  {
   "cell_type": "markdown",
   "metadata": {},
   "source": [
    "### Conclusion\n",
    "|\t|MSE\t|MAPE\n",
    "|  ----  | ----  |----  |\n",
    "Training |\t82.18\t |20.30%\t\n",
    "Testing\t| 495.07\t|\t33.53%\t"
   ]
  },
  {
   "cell_type": "markdown",
   "metadata": {},
   "source": [
    "# 1.g Modify  the  disturbance"
   ]
  },
  {
   "cell_type": "markdown",
   "metadata": {},
   "source": [
    "$$Y_t = 20+t+10\\sin\\left[ \\pi \\left(\\frac{1}{2}\\cos\\left(\\frac{t}{2}\\right)+1 \\right)\\right]+ \\epsilon_t \\quad \\text{for}\\,\\, t = 1,2,\\dots,54,$$\n",
    "where $\\epsilon_t$ is generated from a normal distribution $N(\\mu = 0,\\sigma= 5)$."
   ]
  },
  {
   "cell_type": "code",
   "execution_count": 12,
   "metadata": {
    "vscode": {
     "languageId": "r"
    }
   },
   "outputs": [
    {
     "data": {
      "image/png": "[encoded data removed]",
      "text/plain": [
       "plot without title"
      ]
     },
     "metadata": {
      "image/png": {
       "height": 420,
       "width": 420
      }
     },
     "output_type": "display_data"
    }
   ],
   "source": [
    "y_t2 = array(54)\n",
    "set.seed(23)\n",
    "for (t in 1:54){\n",
    "    y_t2[t] = 20 + t + 10*sinpi(cos(t/2)/2+1) + rnorm(1,mean = 0,sd = 5)\n",
    "    }\n",
    "plot(y_t2,xlab = \"t\",ylab = TeX(r'($y_t$)'),type = 'b', cex = 0.5)\n",
    "    "
   ]
  },
  {
   "cell_type": "code",
   "execution_count": 13,
   "metadata": {
    "vscode": {
     "languageId": "r"
    }
   },
   "outputs": [
    {
     "data": {
      "text/html": [
       "<style>\n",
       ".list-inline {list-style: none; margin:0; padding: 0}\n",
       ".list-inline>li {display: inline-block}\n",
       ".list-inline>li:not(:last-child)::after {content: \"\\00b7\"; padding: 0 .5ex}\n",
       "</style>\n",
       "<ol class=list-inline><li>12.1503754016177</li><li>12.3223392967157</li><li>26.4574831053855</li><li>39.0480746168464</li><li>39.4991264902344</li><li>41.536216910049</li><li>35.55979615297</li><li>41.65219387958</li><li>32.478183976207</li><li>33.5691251776304</li><li>23.1203786833707</li><li>16.7868884069022</li><li>21.5633183942991</li><li>27.145672667459</li><li>23.738268981294</li><li>39.8063481100693</li><li>42.5078136527068</li><li>45.6911535452512</li><li>46.0033372849435</li><li>56.1550834658869</li><li>51.9711545865519</li><li>39.1004063600147</li><li>40.0588765833379</li><li>28.4696441880689</li><li>32.3459597731993</li><li>36.1002003110737</li><li>36.3941722883111</li><li>52.0829509304767</li><li>50.9878663152319</li><li>60.1290801759325</li><li>58.2282468509271</li><li>62.4687984336425</li><li>56.1937667959783</li><li>51.9392909852197</li><li>50.6103406575874</li><li>48.2775500190621</li><li>53.5833220562836</li><li>41.2868969608349</li><li>53.8153696405998</li><li>55.1842919956638</li><li>67.4578160974281</li><li>76.2263376387748</li><li>77.5578970966603</li><li>69.0718724602757</li><li>68.7232884839386</li><li>65.2801576522158</li><li>68.432455531897</li><li>61.7086060801294</li><li>62.0261950784773</li><li>58.8531865619676</li><li>67.3623904855087</li><li>62.306804211463</li><li>59.8888875491921</li><li>81.9349170338442</li></ol>\n"
      ],
      "text/latex": [
       "\\begin{enumerate*}\n",
       "\\item 12.1503754016177\n",
       "\\item 12.3223392967157\n",
       "\\item 26.4574831053855\n",
       "\\item 39.0480746168464\n",
       "\\item 39.4991264902344\n",
       "\\item 41.536216910049\n",
       "\\item 35.55979615297\n",
       "\\item 41.65219387958\n",
       "\\item 32.478183976207\n",
       "\\item 33.5691251776304\n",
       "\\item 23.1203786833707\n",
       "\\item 16.7868884069022\n",
       "\\item 21.5633183942991\n",
       "\\item 27.145672667459\n",
       "\\item 23.738268981294\n",
       "\\item 39.8063481100693\n",
       "\\item 42.5078136527068\n",
       "\\item 45.6911535452512\n",
       "\\item 46.0033372849435\n",
       "\\item 56.1550834658869\n",
       "\\item 51.9711545865519\n",
       "\\item 39.1004063600147\n",
       "\\item 40.0588765833379\n",
       "\\item 28.4696441880689\n",
       "\\item 32.3459597731993\n",
       "\\item 36.1002003110737\n",
       "\\item 36.3941722883111\n",
       "\\item 52.0829509304767\n",
       "\\item 50.9878663152319\n",
       "\\item 60.1290801759325\n",
       "\\item 58.2282468509271\n",
       "\\item 62.4687984336425\n",
       "\\item 56.1937667959783\n",
       "\\item 51.9392909852197\n",
       "\\item 50.6103406575874\n",
       "\\item 48.2775500190621\n",
       "\\item 53.5833220562836\n",
       "\\item 41.2868969608349\n",
       "\\item 53.8153696405998\n",
       "\\item 55.1842919956638\n",
       "\\item 67.4578160974281\n",
       "\\item 76.2263376387748\n",
       "\\item 77.5578970966603\n",
       "\\item 69.0718724602757\n",
       "\\item 68.7232884839386\n",
       "\\item 65.2801576522158\n",
       "\\item 68.432455531897\n",
       "\\item 61.7086060801294\n",
       "\\item 62.0261950784773\n",
       "\\item 58.8531865619676\n",
       "\\item 67.3623904855087\n",
       "\\item 62.306804211463\n",
       "\\item 59.8888875491921\n",
       "\\item 81.9349170338442\n",
       "\\end{enumerate*}\n"
      ],
      "text/markdown": [
       "1. 12.1503754016177\n",
       "2. 12.3223392967157\n",
       "3. 26.4574831053855\n",
       "4. 39.0480746168464\n",
       "5. 39.4991264902344\n",
       "6. 41.536216910049\n",
       "7. 35.55979615297\n",
       "8. 41.65219387958\n",
       "9. 32.478183976207\n",
       "10. 33.5691251776304\n",
       "11. 23.1203786833707\n",
       "12. 16.7868884069022\n",
       "13. 21.5633183942991\n",
       "14. 27.145672667459\n",
       "15. 23.738268981294\n",
       "16. 39.8063481100693\n",
       "17. 42.5078136527068\n",
       "18. 45.6911535452512\n",
       "19. 46.0033372849435\n",
       "20. 56.1550834658869\n",
       "21. 51.9711545865519\n",
       "22. 39.1004063600147\n",
       "23. 40.0588765833379\n",
       "24. 28.4696441880689\n",
       "25. 32.3459597731993\n",
       "26. 36.1002003110737\n",
       "27. 36.3941722883111\n",
       "28. 52.0829509304767\n",
       "29. 50.9878663152319\n",
       "30. 60.1290801759325\n",
       "31. 58.2282468509271\n",
       "32. 62.4687984336425\n",
       "33. 56.1937667959783\n",
       "34. 51.9392909852197\n",
       "35. 50.6103406575874\n",
       "36. 48.2775500190621\n",
       "37. 53.5833220562836\n",
       "38. 41.2868969608349\n",
       "39. 53.8153696405998\n",
       "40. 55.1842919956638\n",
       "41. 67.4578160974281\n",
       "42. 76.2263376387748\n",
       "43. 77.5578970966603\n",
       "44. 69.0718724602757\n",
       "45. 68.7232884839386\n",
       "46. 65.2801576522158\n",
       "47. 68.432455531897\n",
       "48. 61.7086060801294\n",
       "49. 62.0261950784773\n",
       "50. 58.8531865619676\n",
       "51. 67.3623904855087\n",
       "52. 62.306804211463\n",
       "53. 59.8888875491921\n",
       "54. 81.9349170338442\n",
       "\n",
       "\n"
      ],
      "text/plain": [
       " [1] 12.15038 12.32234 26.45748 39.04807 39.49913 41.53622 35.55980 41.65219\n",
       " [9] 32.47818 33.56913 23.12038 16.78689 21.56332 27.14567 23.73827 39.80635\n",
       "[17] 42.50781 45.69115 46.00334 56.15508 51.97115 39.10041 40.05888 28.46964\n",
       "[25] 32.34596 36.10020 36.39417 52.08295 50.98787 60.12908 58.22825 62.46880\n",
       "[33] 56.19377 51.93929 50.61034 48.27755 53.58332 41.28690 53.81537 55.18429\n",
       "[41] 67.45782 76.22634 77.55790 69.07187 68.72329 65.28016 68.43246 61.70861\n",
       "[49] 62.02620 58.85319 67.36239 62.30680 59.88889 81.93492"
      ]
     },
     "metadata": {},
     "output_type": "display_data"
    }
   ],
   "source": [
    "y_t2"
   ]
  },
  {
   "cell_type": "markdown",
   "metadata": {},
   "source": [
    "Repeat the steps above"
   ]
  },
  {
   "cell_type": "markdown",
   "metadata": {},
   "source": [
    "|  |MSE\t|MAPE|\n",
    "|  ----  | ----  |----  |\n",
    "|Training |\t46.33\t|13.33%|\n",
    "|Testing\t| 270.95|\t23.63%|\n",
    "\n"
   ]
  },
  {
   "cell_type": "markdown",
   "metadata": {},
   "source": [
    "### In general, the model performs better for data with smaller fluctuation."
   ]
  },
  {
   "cell_type": "markdown",
   "metadata": {},
   "source": [
    "## 2. "
   ]
  },
  {
   "cell_type": "markdown",
   "metadata": {},
   "source": [
    "Construct the Holt-Winter’s model (Triple Exponential Smoothing model) for the same data in 1-(a)\n",
    "using $y_1, y_2,\\dots, y_{48}$.  Try  to  find  the  smoothing  factors  with  better performance.  Explain  what  you  observe \n",
    "comparing with the results in 1-(e) & 1-(f)"
   ]
  },
  {
   "cell_type": "markdown",
   "metadata": {},
   "source": [
    "We use the $L_t$ first model in EXCEL  \n",
    "$L_0,T_0$ are from the regression model"
   ]
  },
  {
   "cell_type": "markdown",
   "metadata": {},
   "source": [
    "## SMOOTHING FACTORS WITH BETTER PERFORMANCE\n"
   ]
  },
  {
   "cell_type": "markdown",
   "metadata": {},
   "source": [
    "|Smoothing constant|Value|\n",
    "|---:|---|\n",
    "|$\\alpha$|\t0.09|\n",
    "|$\\beta$\t|0.79|\n",
    "|$\\gamma$|\t0.84|\n"
   ]
  },
  {
   "cell_type": "markdown",
   "metadata": {},
   "source": [
    "|`\t|MSE|\tMAPE|\n",
    "|----:|:----:|:----|\n",
    "|Training\t|346.69\t|28.92%|\n",
    "|Testing\t|221.47\t|20.46%|\n"
   ]
  },
  {
   "cell_type": "markdown",
   "metadata": {},
   "source": [
    "The validation data has greater fluctuation (worse MSE and MAPE) while the model performs better for testing data."
   ]
  },
  {
   "cell_type": "markdown",
   "metadata": {},
   "source": []
  }
 ],
 "metadata": {
  "kernelspec": {
   "display_name": "R",
   "language": "R",
   "name": "ir"
  },
  "language_info": {
   "codemirror_mode": "r",
   "file_extension": ".r",
   "mimetype": "text/x-r-source",
   "name": "R",
   "pygments_lexer": "r",
   "version": "4.2.1"
  },
  "orig_nbformat": 4
 },
 "nbformat": 4,
 "nbformat_minor": 2
}
