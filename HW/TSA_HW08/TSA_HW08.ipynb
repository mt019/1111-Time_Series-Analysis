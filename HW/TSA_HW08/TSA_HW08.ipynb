{
 "cells": [
  {
   "cell_type": "markdown",
   "metadata": {},
   "source": [
    "# TSA_HW08\n",
    "R10A21126  \n",
    "WANG YIFAN\n"
   ]
  },
  {
   "cell_type": "markdown",
   "metadata": {},
   "source": [
    "## Q2"
   ]
  },
  {
   "cell_type": "markdown",
   "metadata": {},
   "source": [
    "Recall the dataset “robot” firstly introduced in TSA HW06.\n"
   ]
  },
  {
   "cell_type": "code",
   "execution_count": 1,
   "metadata": {
    "vscode": {
     "languageId": "r"
    }
   },
   "outputs": [
    {
     "name": "stderr",
     "output_type": "stream",
     "text": [
      "Warning message:\n",
      "\"package 'TSA' was built under R version 4.2.2\"\n",
      "\n",
      "Attaching package: 'TSA'\n",
      "\n",
      "\n",
      "The following objects are masked from 'package:stats':\n",
      "\n",
      "    acf, arima\n",
      "\n",
      "\n",
      "The following object is masked from 'package:utils':\n",
      "\n",
      "    tar\n",
      "\n",
      "\n",
      "Warning message:\n",
      "\"package 'lmtest' was built under R version 4.2.2\"\n",
      "Loading required package: zoo\n",
      "\n",
      "Warning message:\n",
      "\"package 'zoo' was built under R version 4.2.2\"\n",
      "\n",
      "Attaching package: 'zoo'\n",
      "\n",
      "\n",
      "The following objects are masked from 'package:base':\n",
      "\n",
      "    as.Date, as.Date.numeric\n",
      "\n",
      "\n"
     ]
    }
   ],
   "source": [
    "library(TSA)\n",
    "library('lmtest')\n",
    "# require(grDevices)"
   ]
  },
  {
   "cell_type": "code",
   "execution_count": 2,
   "metadata": {
    "vscode": {
     "languageId": "r"
    }
   },
   "outputs": [],
   "source": [
    "options(repr.plot.width=15, repr.plot.height=5) # modify the plot size"
   ]
  },
  {
   "cell_type": "markdown",
   "metadata": {},
   "source": [
    "### (a) Use IMA(1, 1) to forecast five values ahead and calculate the 95% confidence intervals.\n"
   ]
  },
  {
   "cell_type": "markdown",
   "metadata": {},
   "source": [
    "### (b) Display the actual values, the five forecasts and the 95% confidence intervals of the five forecasts, all in one graph. What do you observe?"
   ]
  },
  {
   "cell_type": "code",
   "execution_count": 3,
   "metadata": {
    "vscode": {
     "languageId": "r"
    }
   },
   "outputs": [],
   "source": [
    "data(robot)"
   ]
  },
  {
   "cell_type": "code",
   "execution_count": 4,
   "metadata": {
    "vscode": {
     "languageId": "r"
    }
   },
   "outputs": [
    {
     "data": {
      "text/plain": [
       "\n",
       "Call:\n",
       "arima(x = robot, order = c(0, 1, 1))\n",
       "\n",
       "Coefficients:\n",
       "          ma1\n",
       "      -0.8713\n",
       "s.e.   0.0389\n",
       "\n",
       "sigma^2 estimated as 6.069e-06:  log likelihood = 1480.95,  aic = -2959.9"
      ]
     },
     "metadata": {},
     "output_type": "display_data"
    }
   ],
   "source": [
    "model = arima(robot,order=c(0,1,1)) \n",
    "model\n"
   ]
  },
  {
   "cell_type": "code",
   "execution_count": 5,
   "metadata": {
    "vscode": {
     "languageId": "r"
    }
   },
   "outputs": [
    {
     "data": {
      "text/html": [
       "A Time Series:<br><style>\n",
       ".list-inline {list-style: none; margin:0; padding: 0}\n",
       ".list-inline>li {display: inline-block}\n",
       ".list-inline>li:not(:last-child)::after {content: \"\\00b7\"; padding: 0 .5ex}\n",
       "</style>\n",
       "<ol class=list-inline><li>0.00174267189481582</li><li>0.00174267189481582</li><li>0.00174267189481582</li><li>0.00174267189481582</li><li>0.00174267189481582</li></ol>\n"
      ],
      "text/latex": [
       "A Time Series:\\\\\\begin{enumerate*}\n",
       "\\item 0.00174267189481582\n",
       "\\item 0.00174267189481582\n",
       "\\item 0.00174267189481582\n",
       "\\item 0.00174267189481582\n",
       "\\item 0.00174267189481582\n",
       "\\end{enumerate*}\n"
      ],
      "text/markdown": [
       "A Time Series:  \n",
       "1. 0.00174267189481582\n",
       "2. 0.00174267189481582\n",
       "3. 0.00174267189481582\n",
       "4. 0.00174267189481582\n",
       "5. 0.00174267189481582\n",
       "\n",
       "\n"
      ],
      "text/plain": [
       "A Time Series:\n",
       "[1] 0.001742672 0.001742672 0.001742672 0.001742672 0.001742672"
      ]
     },
     "metadata": {},
     "output_type": "display_data"
    },
    {
     "data": {
      "text/html": [
       "A Time Series:<br><style>\n",
       ".list-inline {list-style: none; margin:0; padding: 0}\n",
       ".list-inline>li {display: inline-block}\n",
       ".list-inline>li:not(:last-child)::after {content: \"\\00b7\"; padding: 0 .5ex}\n",
       "</style>\n",
       "<ol class=list-inline><li>-0.00308600046365195</li><li>-0.00312583931295607</li><li>-0.00316535479775323</li><li>-0.00320455466657593</li><li>-0.00324344636335955</li></ol>\n"
      ],
      "text/latex": [
       "A Time Series:\\\\\\begin{enumerate*}\n",
       "\\item -0.00308600046365195\n",
       "\\item -0.00312583931295607\n",
       "\\item -0.00316535479775323\n",
       "\\item -0.00320455466657593\n",
       "\\item -0.00324344636335955\n",
       "\\end{enumerate*}\n"
      ],
      "text/markdown": [
       "A Time Series:  \n",
       "1. -0.00308600046365195\n",
       "2. -0.00312583931295607\n",
       "3. -0.00316535479775323\n",
       "4. -0.00320455466657593\n",
       "5. -0.00324344636335955\n",
       "\n",
       "\n"
      ],
      "text/plain": [
       "A Time Series:\n",
       "[1] -0.003086000 -0.003125839 -0.003165355 -0.003204555 -0.003243446"
      ]
     },
     "metadata": {},
     "output_type": "display_data"
    },
    {
     "data": {
      "text/html": [
       "A Time Series:<br><style>\n",
       ".list-inline {list-style: none; margin:0; padding: 0}\n",
       ".list-inline>li {display: inline-block}\n",
       ".list-inline>li:not(:last-child)::after {content: \"\\00b7\"; padding: 0 .5ex}\n",
       "</style>\n",
       "<ol class=list-inline><li>0.00657134425328359</li><li>0.00661118310258771</li><li>0.00665069858738487</li><li>0.00668989845620757</li><li>0.00672879015299119</li></ol>\n"
      ],
      "text/latex": [
       "A Time Series:\\\\\\begin{enumerate*}\n",
       "\\item 0.00657134425328359\n",
       "\\item 0.00661118310258771\n",
       "\\item 0.00665069858738487\n",
       "\\item 0.00668989845620757\n",
       "\\item 0.00672879015299119\n",
       "\\end{enumerate*}\n"
      ],
      "text/markdown": [
       "A Time Series:  \n",
       "1. 0.00657134425328359\n",
       "2. 0.00661118310258771\n",
       "3. 0.00665069858738487\n",
       "4. 0.00668989845620757\n",
       "5. 0.00672879015299119\n",
       "\n",
       "\n"
      ],
      "text/plain": [
       "A Time Series:\n",
       "[1] 0.006571344 0.006611183 0.006650699 0.006689898 0.006728790"
      ]
     },
     "metadata": {},
     "output_type": "display_data"
    },
    {
     "data": {
      "image/png": "[encoded data removed]",
      "text/plain": [
       "plot without title"
      ]
     },
     "metadata": {
      "image/png": {
       "height": 300,
       "width": 900
      }
     },
     "output_type": "display_data"
    }
   ],
   "source": [
    "plot(model,n.ahead=5,n1=c(300))$pred\n",
    "plot(model,n.ahead=5,n1=300)$lpi;\n",
    "plot(model,n.ahead=5,n1=300)$upi; \n",
    "# n1 starting time point of the plot (default=earliest time point)\n",
    "# pred the time series of predicted values\n",
    "# lpi the corresponding lower 95% prediction limits\n",
    "# upi the corresponding upper 95% prediction limits\n",
    "#https://cran.r-project.org/web/packages/TSA/TSA.pdf P.45"
   ]
  },
  {
   "cell_type": "markdown",
   "metadata": {},
   "source": [
    "The forecast limits are quite wide in this fitted model and the forecasts are relatively constant."
   ]
  },
  {
   "cell_type": "markdown",
   "metadata": {},
   "source": [
    "### (c) Use ARMA(1, 1) to forecast five values ahead and calculate the 95% confidence intervals. Compare the \n",
    "results with those in (a), what do you observe?"
   ]
  },
  {
   "cell_type": "code",
   "execution_count": 6,
   "metadata": {
    "vscode": {
     "languageId": "r"
    }
   },
   "outputs": [
    {
     "data": {
      "text/html": [
       "A Time Series:<br><style>\n",
       ".list-inline {list-style: none; margin:0; padding: 0}\n",
       ".list-inline>li {display: inline-block}\n",
       ".list-inline>li:not(:last-child)::after {content: \"\\00b7\"; padding: 0 .5ex}\n",
       "</style>\n",
       "<ol class=list-inline><li>0.00190134843058797</li><li>0.00187944389457682</li><li>0.00185869511989562</li><li>0.00183904112446051</li><li>0.00182042414381957</li></ol>\n"
      ],
      "text/latex": [
       "A Time Series:\\\\\\begin{enumerate*}\n",
       "\\item 0.00190134843058797\n",
       "\\item 0.00187944389457682\n",
       "\\item 0.00185869511989562\n",
       "\\item 0.00183904112446051\n",
       "\\item 0.00182042414381957\n",
       "\\end{enumerate*}\n"
      ],
      "text/markdown": [
       "A Time Series:  \n",
       "1. 0.00190134843058797\n",
       "2. 0.00187944389457682\n",
       "3. 0.00185869511989562\n",
       "4. 0.00183904112446051\n",
       "5. 0.00182042414381957\n",
       "\n",
       "\n"
      ],
      "text/plain": [
       "A Time Series:\n",
       "[1] 0.001901348 0.001879444 0.001858695 0.001839041 0.001820424"
      ]
     },
     "metadata": {},
     "output_type": "display_data"
    },
    {
     "data": {
      "text/html": [
       "A Time Series:<br><style>\n",
       ".list-inline {list-style: none; margin:0; padding: 0}\n",
       ".list-inline>li {display: inline-block}\n",
       ".list-inline>li:not(:last-child)::after {content: \"\\00b7\"; padding: 0 .5ex}\n",
       "</style>\n",
       "<ol class=list-inline><li>-0.00287877602479699</li><li>-0.00294799357870244</li><li>-0.00301080301733806</li><li>-0.00306788937149357</li><li>-0.00311985138858445</li></ol>\n"
      ],
      "text/latex": [
       "A Time Series:\\\\\\begin{enumerate*}\n",
       "\\item -0.00287877602479699\n",
       "\\item -0.00294799357870244\n",
       "\\item -0.00301080301733806\n",
       "\\item -0.00306788937149357\n",
       "\\item -0.00311985138858445\n",
       "\\end{enumerate*}\n"
      ],
      "text/markdown": [
       "A Time Series:  \n",
       "1. -0.00287877602479699\n",
       "2. -0.00294799357870244\n",
       "3. -0.00301080301733806\n",
       "4. -0.00306788937149357\n",
       "5. -0.00311985138858445\n",
       "\n",
       "\n"
      ],
      "text/plain": [
       "A Time Series:\n",
       "[1] -0.002878776 -0.002947994 -0.003010803 -0.003067889 -0.003119851"
      ]
     },
     "metadata": {},
     "output_type": "display_data"
    },
    {
     "data": {
      "text/html": [
       "A Time Series:<br><style>\n",
       ".list-inline {list-style: none; margin:0; padding: 0}\n",
       ".list-inline>li {display: inline-block}\n",
       ".list-inline>li:not(:last-child)::after {content: \"\\00b7\"; padding: 0 .5ex}\n",
       "</style>\n",
       "<ol class=list-inline><li>0.00668147288597293</li><li>0.00670688136785608</li><li>0.0067281932571293</li><li>0.00674597162041459</li><li>0.00676069967622358</li></ol>\n"
      ],
      "text/latex": [
       "A Time Series:\\\\\\begin{enumerate*}\n",
       "\\item 0.00668147288597293\n",
       "\\item 0.00670688136785608\n",
       "\\item 0.0067281932571293\n",
       "\\item 0.00674597162041459\n",
       "\\item 0.00676069967622358\n",
       "\\end{enumerate*}\n"
      ],
      "text/markdown": [
       "A Time Series:  \n",
       "1. 0.00668147288597293\n",
       "2. 0.00670688136785608\n",
       "3. 0.0067281932571293\n",
       "4. 0.00674597162041459\n",
       "5. 0.00676069967622358\n",
       "\n",
       "\n"
      ],
      "text/plain": [
       "A Time Series:\n",
       "[1] 0.006681473 0.006706881 0.006728193 0.006745972 0.006760700"
      ]
     },
     "metadata": {},
     "output_type": "display_data"
    },
    {
     "data": {
      "image/png": "[encoded data removed]",
      "text/plain": [
       "plot without title"
      ]
     },
     "metadata": {
      "image/png": {
       "height": 300,
       "width": 900
      }
     },
     "output_type": "display_data"
    }
   ],
   "source": [
    "model=arima(robot,order=c(1,0,1))\n",
    "plot(model,n.ahead=5,n1=c(300))$pred\n",
    "plot(model,n.ahead=5,n1=300)$lpi;\n",
    "plot(model,n.ahead=5,n1=300)$upi;"
   ]
  },
  {
   "cell_type": "markdown",
   "metadata": {},
   "source": [
    "Two models give quite similar forecasts."
   ]
  },
  {
   "cell_type": "markdown",
   "metadata": {},
   "source": [
    "## Q3"
   ]
  },
  {
   "cell_type": "markdown",
   "metadata": {},
   "source": [
    "The dataset “boardings” contains the monthly number of passengers who boarded light rail trains and \n",
    "buses in Denver, Colorado, from August 2000 to March 2006.\n"
   ]
  },
  {
   "cell_type": "markdown",
   "metadata": {},
   "source": [
    "### (a) Plot the time series and tell your observation if there exists seasonality and if the series is stationary. \n"
   ]
  },
  {
   "cell_type": "code",
   "execution_count": 7,
   "metadata": {
    "vscode": {
     "languageId": "r"
    }
   },
   "outputs": [],
   "source": [
    "data(boardings); series=boardings[,1]"
   ]
  },
  {
   "cell_type": "code",
   "execution_count": 8,
   "metadata": {
    "vscode": {
     "languageId": "r"
    }
   },
   "outputs": [
    {
     "data": {
      "image/png": "[encoded data removed]",
      "text/plain": [
       "plot without title"
      ]
     },
     "metadata": {
      "image/png": {
       "height": 300,
       "width": 900
      }
     },
     "output_type": "display_data"
    }
   ],
   "source": [
    "plot(series,type='l',ylab='Light Rail & Bus Boardings')\n",
    "points(series,x=time(series),pch=as.vector(season(series)))"
   ]
  },
  {
   "cell_type": "markdown",
   "metadata": {},
   "source": [
    "There is substantial seasonality in this series. Decembers are generaly low due to the holidays\n",
    "and Septembers are usually quite high due to the start up of school. There may also be a gradual upward “trend” that\n",
    "may need to be modeled with some kind of nonstationarity."
   ]
  },
  {
   "cell_type": "markdown",
   "metadata": {},
   "source": [
    "### (b) Plot the sample ACF and see what are the significant lags?\n"
   ]
  },
  {
   "cell_type": "code",
   "execution_count": 9,
   "metadata": {
    "vscode": {
     "languageId": "r"
    }
   },
   "outputs": [
    {
     "data": {
      "image/png": "[encoded data removed]",
      "text/plain": [
       "Plot with title \"Series as.vector(series)\""
      ]
     },
     "metadata": {
      "image/png": {
       "height": 300,
       "width": 900
      }
     },
     "output_type": "display_data"
    }
   ],
   "source": [
    "acf(as.vector(series))"
   ]
  },
  {
   "cell_type": "markdown",
   "metadata": {},
   "source": [
    "The significant autocorrelations indicate a seasonal ARMA model."
   ]
  },
  {
   "cell_type": "markdown",
   "metadata": {},
   "source": [
    "### (c) Fit the data with ARMA $(0, 3) \\times (1,0)_{12}$, evaluate if the estimated coefficients $\\left\\{\\hat{\\theta}_1,\\hat{\\theta}_12,\\hat{\\theta}_3,\\hat{\\phi}_{12},\\right\\}$ are significant. \n",
    "\n",
    "\n",
    "Hint: you need to check the associated standard errors “s.e.” to the estimated coefficients to know if the \n",
    "coefficients are significant, via hypothesis testing.\n"
   ]
  },
  {
   "cell_type": "code",
   "execution_count": 10,
   "metadata": {
    "vscode": {
     "languageId": "r"
    }
   },
   "outputs": [
    {
     "data": {
      "text/plain": [
       "\n",
       "Call:\n",
       "arima(x = series, order = c(0, 0, 3), seasonal = list(order = c(1, 0, 0), period = 12))\n",
       "\n",
       "Coefficients:\n",
       "         ma1     ma2     ma3    sar1  intercept\n",
       "      0.7290  0.6116  0.2950  0.8776    12.5455\n",
       "s.e.  0.1186  0.1172  0.1118  0.0507     0.0354\n",
       "\n",
       "sigma^2 estimated as 0.0006542:  log likelihood = 143.54,  aic = -277.09"
      ]
     },
     "metadata": {},
     "output_type": "display_data"
    }
   ],
   "source": [
    "model=arima(series,order=c(0,0,3),seasonal=list(order=c(1,0,0),period=12))\n",
    "model"
   ]
  },
  {
   "cell_type": "code",
   "execution_count": 11,
   "metadata": {
    "vscode": {
     "languageId": "r"
    }
   },
   "outputs": [
    {
     "data": {
      "text/plain": [
       "\n",
       "z test of coefficients:\n",
       "\n",
       "          Estimate Std. Error  z value  Pr(>|z|)    \n",
       "ma1        0.72897    0.11856   6.1487 7.812e-10 ***\n",
       "ma2        0.61162    0.11718   5.2194 1.795e-07 ***\n",
       "ma3        0.29503    0.11180   2.6390  0.008316 ** \n",
       "sar1       0.87761    0.05071  17.3064 < 2.2e-16 ***\n",
       "intercept 12.54550    0.03543 354.0930 < 2.2e-16 ***\n",
       "---\n",
       "Signif. codes:  0 '***' 0.001 '**' 0.01 '*' 0.05 '.' 0.1 ' ' 1\n"
      ]
     },
     "metadata": {},
     "output_type": "display_data"
    },
    {
     "data": {
      "text/html": [
       "<table class=\"dataframe\">\n",
       "<caption>A matrix: 5 × 2 of type dbl</caption>\n",
       "<thead>\n",
       "\t<tr><th></th><th scope=col>2.5 %</th><th scope=col>97.5 %</th></tr>\n",
       "</thead>\n",
       "<tbody>\n",
       "\t<tr><th scope=row>ma1</th><td> 0.49660242</td><td> 0.9613358</td></tr>\n",
       "\t<tr><th scope=row>ma2</th><td> 0.38194697</td><td> 0.8412979</td></tr>\n",
       "\t<tr><th scope=row>ma3</th><td> 0.07591171</td><td> 0.5141480</td></tr>\n",
       "\t<tr><th scope=row>sar1</th><td> 0.77822267</td><td> 0.9770035</td></tr>\n",
       "\t<tr><th scope=row>intercept</th><td>12.47605729</td><td>12.6149402</td></tr>\n",
       "</tbody>\n",
       "</table>\n"
      ],
      "text/latex": [
       "A matrix: 5 × 2 of type dbl\n",
       "\\begin{tabular}{r|ll}\n",
       "  & 2.5 \\% & 97.5 \\%\\\\\n",
       "\\hline\n",
       "\tma1 &  0.49660242 &  0.9613358\\\\\n",
       "\tma2 &  0.38194697 &  0.8412979\\\\\n",
       "\tma3 &  0.07591171 &  0.5141480\\\\\n",
       "\tsar1 &  0.77822267 &  0.9770035\\\\\n",
       "\tintercept & 12.47605729 & 12.6149402\\\\\n",
       "\\end{tabular}\n"
      ],
      "text/markdown": [
       "\n",
       "A matrix: 5 × 2 of type dbl\n",
       "\n",
       "| <!--/--> | 2.5 % | 97.5 % |\n",
       "|---|---|---|\n",
       "| ma1 |  0.49660242 |  0.9613358 |\n",
       "| ma2 |  0.38194697 |  0.8412979 |\n",
       "| ma3 |  0.07591171 |  0.5141480 |\n",
       "| sar1 |  0.77822267 |  0.9770035 |\n",
       "| intercept | 12.47605729 | 12.6149402 |\n",
       "\n"
      ],
      "text/plain": [
       "          2.5 %       97.5 %    \n",
       "ma1        0.49660242  0.9613358\n",
       "ma2        0.38194697  0.8412979\n",
       "ma3        0.07591171  0.5141480\n",
       "sar1       0.77822267  0.9770035\n",
       "intercept 12.47605729 12.6149402"
      ]
     },
     "metadata": {},
     "output_type": "display_data"
    },
    {
     "data": {
      "text/html": [
       "<table class=\"dataframe\">\n",
       "<caption>A matrix: 5 × 2 of type dbl</caption>\n",
       "<thead>\n",
       "\t<tr><th></th><th scope=col>2.5 %</th><th scope=col>97.5 %</th></tr>\n",
       "</thead>\n",
       "<tbody>\n",
       "\t<tr><th scope=row>ma1</th><td> 0.49660242</td><td> 0.9613358</td></tr>\n",
       "\t<tr><th scope=row>ma2</th><td> 0.38194697</td><td> 0.8412979</td></tr>\n",
       "\t<tr><th scope=row>ma3</th><td> 0.07591171</td><td> 0.5141480</td></tr>\n",
       "\t<tr><th scope=row>sar1</th><td> 0.77822267</td><td> 0.9770035</td></tr>\n",
       "\t<tr><th scope=row>intercept</th><td>12.47605729</td><td>12.6149402</td></tr>\n",
       "</tbody>\n",
       "</table>\n"
      ],
      "text/latex": [
       "A matrix: 5 × 2 of type dbl\n",
       "\\begin{tabular}{r|ll}\n",
       "  & 2.5 \\% & 97.5 \\%\\\\\n",
       "\\hline\n",
       "\tma1 &  0.49660242 &  0.9613358\\\\\n",
       "\tma2 &  0.38194697 &  0.8412979\\\\\n",
       "\tma3 &  0.07591171 &  0.5141480\\\\\n",
       "\tsar1 &  0.77822267 &  0.9770035\\\\\n",
       "\tintercept & 12.47605729 & 12.6149402\\\\\n",
       "\\end{tabular}\n"
      ],
      "text/markdown": [
       "\n",
       "A matrix: 5 × 2 of type dbl\n",
       "\n",
       "| <!--/--> | 2.5 % | 97.5 % |\n",
       "|---|---|---|\n",
       "| ma1 |  0.49660242 |  0.9613358 |\n",
       "| ma2 |  0.38194697 |  0.8412979 |\n",
       "| ma3 |  0.07591171 |  0.5141480 |\n",
       "| sar1 |  0.77822267 |  0.9770035 |\n",
       "| intercept | 12.47605729 | 12.6149402 |\n",
       "\n"
      ],
      "text/plain": [
       "          2.5 %       97.5 %    \n",
       "ma1        0.49660242  0.9613358\n",
       "ma2        0.38194697  0.8412979\n",
       "ma3        0.07591171  0.5141480\n",
       "sar1       0.77822267  0.9770035\n",
       "intercept 12.47605729 12.6149402"
      ]
     },
     "metadata": {},
     "output_type": "display_data"
    }
   ],
   "source": [
    "coeftest(model);coefci(model);confint(model) #identical results"
   ]
  },
  {
   "cell_type": "markdown",
   "metadata": {},
   "source": [
    "All of these coefficients are statistically significant at the usual significance levels."
   ]
  },
  {
   "cell_type": "markdown",
   "metadata": {},
   "source": [
    "## Q4"
   ]
  },
  {
   "cell_type": "markdown",
   "metadata": {},
   "source": [
    "The monthly airline passengers, first investigated by Box and Jenkins in 1976, is considered as the \n",
    "classic time series dataset (see “TSA HW08.airpass.csv”).\n"
   ]
  },
  {
   "cell_type": "markdown",
   "metadata": {},
   "source": [
    "### (a) Plot the time series in its original scale and the log-transformed scale. Do you think making the log-transformation is appropriate?\n"
   ]
  },
  {
   "cell_type": "code",
   "execution_count": 12,
   "metadata": {
    "vscode": {
     "languageId": "r"
    }
   },
   "outputs": [
    {
     "data": {
      "image/png": "[encoded data removed]",
      "text/plain": [
       "plot without title"
      ]
     },
     "metadata": {
      "image/png": {
       "height": 300,
       "width": 900
      }
     },
     "output_type": "display_data"
    },
    {
     "data": {
      "image/png": "[encoded data removed]",
      "text/plain": [
       "plot without title"
      ]
     },
     "metadata": {
      "image/png": {
       "height": 300,
       "width": 900
      }
     },
     "output_type": "display_data"
    }
   ],
   "source": [
    "data(airpass) \n",
    "plot(airpass, type='o',ylab='Air Passengers')\n",
    "plot(log(airpass), type='o',ylab='Log(Air Passengers)')"
   ]
  },
  {
   "cell_type": "markdown",
   "metadata": {},
   "source": [
    "The graph of the logarithms displays a much more constant variation around the upward “trend.”"
   ]
  },
  {
   "cell_type": "markdown",
   "metadata": {},
   "source": [
    "### (b) Make the first-order difference over the “log-transformed” data. What do you observe?\n"
   ]
  },
  {
   "cell_type": "code",
   "execution_count": 13,
   "metadata": {
    "vscode": {
     "languageId": "r"
    }
   },
   "outputs": [
    {
     "data": {
      "image/png": "[encoded data removed]",
      "text/plain": [
       "plot without title"
      ]
     },
     "metadata": {
      "image/png": {
       "height": 300,
       "width": 900
      }
     },
     "output_type": "display_data"
    }
   ],
   "source": [
    "plot(diff(log(airpass)),type='o',ylab='Difference of Log(Air Passengers)')\n",
    "points(diff(log(airpass)),x=time(diff(log(airpass))), \n",
    "pch=as.vector(season(diff(log(airpass)))))"
   ]
  },
  {
   "cell_type": "markdown",
   "metadata": {},
   "source": [
    "This series appears to be stationary.\n",
    "\n",
    "The seasonality can be observed by looking at the plotting symbols carefully. Septembers, Octobers, and Novembers are mostly at the low points and Decembers mostly at the high points."
   ]
  },
  {
   "cell_type": "markdown",
   "metadata": {},
   "source": [
    "### (c) Make a **seasonal** difference of the resulted series in (b), what do you observe?\n"
   ]
  },
  {
   "cell_type": "code",
   "execution_count": 14,
   "metadata": {
    "vscode": {
     "languageId": "r"
    }
   },
   "outputs": [
    {
     "data": {
      "image/png": "[encoded data removed]",
      "text/plain": [
       "plot without title"
      ]
     },
     "metadata": {
      "image/png": {
       "height": 300,
       "width": 900
      }
     },
     "output_type": "display_data"
    }
   ],
   "source": [
    "plot(diff(diff(log(airpass)),lag=12),type='l',\n",
    "ylab='First & Seasonal Differences of Log(AirPass)')\n",
    "points(diff(diff(log(airpass)),lag=12),x=time(diff(diff(log(airpass)),lag=12)), pch=as.vector(season(diff(diff(log(airpass)),lag=12))))"
   ]
  },
  {
   "cell_type": "markdown",
   "metadata": {},
   "source": [
    "The seasonality is much less obvious now"
   ]
  },
  {
   "cell_type": "markdown",
   "metadata": {},
   "source": [
    "### (d) Plot the sample ACF of the resulted series in (c), explain what you see.\n"
   ]
  },
  {
   "cell_type": "code",
   "execution_count": 15,
   "metadata": {
    "vscode": {
     "languageId": "r"
    }
   },
   "outputs": [
    {
     "data": {
      "image/png": "[encoded data removed]",
      "text/plain": [
       "Plot with title \"First & Seasonal Differences of Log(AirPass)\""
      ]
     },
     "metadata": {
      "image/png": {
       "height": 300,
       "width": 900
      }
     },
     "output_type": "display_data"
    }
   ],
   "source": [
    "acf(as.vector(diff(diff(log(airpass)),lag=12)),\n",
    "# ci.type='ma',\n",
    "main='First & Seasonal Differences of Log(AirPass)')"
   ]
  },
  {
   "cell_type": "markdown",
   "metadata": {},
   "source": [
    "Although there is a “significant” autocorrelation at lag 3, the most prominent autocorrelations are at lags 1 and 12."
   ]
  },
  {
   "cell_type": "markdown",
   "metadata": {},
   "source": [
    "### (e) Fit an ARIMA $(0,1,1) × (0,1,1)_{12}$ model to the log-transformed series. Diagnose the residuals of this model, including the sample ACF and the normality test.\n"
   ]
  },
  {
   "cell_type": "code",
   "execution_count": 16,
   "metadata": {
    "vscode": {
     "languageId": "r"
    }
   },
   "outputs": [
    {
     "data": {
      "text/plain": [
       "\n",
       "Call:\n",
       "arima(x = log(airpass), order = c(0, 1, 1), seasonal = list(order = c(0, 1, \n",
       "    1), period = 12))\n",
       "\n",
       "Coefficients:\n",
       "          ma1     sma1\n",
       "      -0.4018  -0.5569\n",
       "s.e.   0.0896   0.0731\n",
       "\n",
       "sigma^2 estimated as 0.001348:  log likelihood = 244.7,  aic = -485.4"
      ]
     },
     "metadata": {},
     "output_type": "display_data"
    }
   ],
   "source": [
    "model=arima(log(airpass),order=c(0,1,1),seasonal=list(order=c(0,1,1),period=12))\n",
    "model"
   ]
  },
  {
   "cell_type": "code",
   "execution_count": 17,
   "metadata": {
    "vscode": {
     "languageId": "r"
    }
   },
   "outputs": [
    {
     "data": {
      "image/png": "[encoded data removed]",
      "text/plain": [
       "Plot with title \"p values for Ljung-Box statistic\""
      ]
     },
     "metadata": {
      "image/png": {
       "height": 600,
       "width": 900
      }
     },
     "output_type": "display_data"
    }
   ],
   "source": [
    "options(repr.plot.width=15, repr.plot.height=10) # modify the plot size\n",
    "tsdiag(model)"
   ]
  },
  {
   "cell_type": "markdown",
   "metadata": {},
   "source": [
    "For residuals:\n",
    "\n",
    "There is no significant autocorrelation. \n",
    "The hypothesis of randomness is not rejected."
   ]
  },
  {
   "cell_type": "code",
   "execution_count": 18,
   "metadata": {
    "vscode": {
     "languageId": "r"
    }
   },
   "outputs": [
    {
     "data": {
      "image/png": "[encoded data removed]",
      "text/plain": [
       "Plot with title \"Histogram of residuals(model)\""
      ]
     },
     "metadata": {
      "image/png": {
       "height": 300,
       "width": 900
      }
     },
     "output_type": "display_data"
    }
   ],
   "source": [
    "options(repr.plot.width=15, repr.plot.height=5)\n",
    "hist(residuals(model),xlab='Residuals')\n"
   ]
  },
  {
   "cell_type": "code",
   "execution_count": 19,
   "metadata": {
    "vscode": {
     "languageId": "r"
    }
   },
   "outputs": [
    {
     "data": {
      "text/plain": [
       "\n",
       "\tShapiro-Wilk normality test\n",
       "\n",
       "data:  residuals(model)\n",
       "W = 0.98637, p-value = 0.1674\n"
      ]
     },
     "metadata": {},
     "output_type": "display_data"
    }
   ],
   "source": [
    "shapiro.test(residuals(model))"
   ]
  },
  {
   "cell_type": "markdown",
   "metadata": {},
   "source": [
    "The Shapiro-Wilk test does not reject normality of the error terms at any of the usual significance levels."
   ]
  },
  {
   "cell_type": "markdown",
   "metadata": {},
   "source": [
    "### (f) Make forecasts for “two” years based on the model in (e). The confidence intervals shall be included"
   ]
  },
  {
   "cell_type": "code",
   "execution_count": 20,
   "metadata": {
    "vscode": {
     "languageId": "r"
    }
   },
   "outputs": [
    {
     "data": {
      "image/png": "[encoded data removed]",
      "text/plain": [
       "plot without title"
      ]
     },
     "metadata": {
      "image/png": {
       "height": 300,
       "width": 900
      }
     },
     "output_type": "display_data"
    }
   ],
   "source": [
    "plot(model,n1=c(1969,1),n.ahead=24,pch=19,ylab='Log(Air Passengers)')"
   ]
  },
  {
   "cell_type": "code",
   "execution_count": 21,
   "metadata": {
    "vscode": {
     "languageId": "r"
    }
   },
   "outputs": [
    {
     "data": {
      "text/html": [
       "<table class=\"dataframe\">\n",
       "<caption>A Time Series: 2 × 12</caption>\n",
       "<thead>\n",
       "\t<tr><th></th><th scope=col>Jan</th><th scope=col>Feb</th><th scope=col>Mar</th><th scope=col>Apr</th><th scope=col>May</th><th scope=col>Jun</th><th scope=col>Jul</th><th scope=col>Aug</th><th scope=col>Sep</th><th scope=col>Oct</th><th scope=col>Nov</th><th scope=col>Dec</th></tr>\n",
       "</thead>\n",
       "<tbody>\n",
       "\t<tr><th scope=row>1972</th><td>450.4224</td><td>425.7172</td><td>479.0068</td><td>492.4045</td><td>509.0550</td><td>583.3449</td><td>670.0108</td><td>667.0776</td><td>558.1894</td><td>497.2078</td><td>429.8720</td><td>477.2426</td></tr>\n",
       "\t<tr><th scope=row>1973</th><td>495.9301</td><td>468.7289</td><td>527.4025</td><td>542.1538</td><td>560.4865</td><td>642.2823</td><td>737.7043</td><td>734.4748</td><td>614.5852</td><td>547.4424</td><td>473.3034</td><td>525.4600</td></tr>\n",
       "</tbody>\n",
       "</table>\n"
      ],
      "text/latex": [
       "A Time Series: 2 × 12\n",
       "\\begin{tabular}{r|llllllllllll}\n",
       "  & Jan & Feb & Mar & Apr & May & Jun & Jul & Aug & Sep & Oct & Nov & Dec\\\\\n",
       "\\hline\n",
       "\t1972 & 450.4224 & 425.7172 & 479.0068 & 492.4045 & 509.0550 & 583.3449 & 670.0108 & 667.0776 & 558.1894 & 497.2078 & 429.8720 & 477.2426\\\\\n",
       "\t1973 & 495.9301 & 468.7289 & 527.4025 & 542.1538 & 560.4865 & 642.2823 & 737.7043 & 734.4748 & 614.5852 & 547.4424 & 473.3034 & 525.4600\\\\\n",
       "\\end{tabular}\n"
      ],
      "text/markdown": [
       "\n",
       "A Time Series: 2 × 12\n",
       "\n",
       "| <!--/--> | Jan | Feb | Mar | Apr | May | Jun | Jul | Aug | Sep | Oct | Nov | Dec |\n",
       "|---|---|---|---|---|---|---|---|---|---|---|---|---|\n",
       "| 1972 | 450.4224 | 425.7172 | 479.0068 | 492.4045 | 509.0550 | 583.3449 | 670.0108 | 667.0776 | 558.1894 | 497.2078 | 429.8720 | 477.2426 |\n",
       "| 1973 | 495.9301 | 468.7289 | 527.4025 | 542.1538 | 560.4865 | 642.2823 | 737.7043 | 734.4748 | 614.5852 | 547.4424 | 473.3034 | 525.4600 |\n",
       "\n"
      ],
      "text/plain": [
       "     Jan      Feb      Mar      Apr      May      Jun      Jul      Aug     \n",
       "1972 450.4224 425.7172 479.0068 492.4045 509.0550 583.3449 670.0108 667.0776\n",
       "1973 495.9301 468.7289 527.4025 542.1538 560.4865 642.2823 737.7043 734.4748\n",
       "     Sep      Oct      Nov      Dec     \n",
       "1972 558.1894 497.2078 429.8720 477.2426\n",
       "1973 614.5852 547.4424 473.3034 525.4600"
      ]
     },
     "metadata": {},
     "output_type": "display_data"
    },
    {
     "data": {
      "text/html": [
       "<table class=\"dataframe\">\n",
       "<caption>A Time Series: 2 × 12</caption>\n",
       "<thead>\n",
       "\t<tr><th></th><th scope=col>Jan</th><th scope=col>Feb</th><th scope=col>Mar</th><th scope=col>Apr</th><th scope=col>May</th><th scope=col>Jun</th><th scope=col>Jul</th><th scope=col>Aug</th><th scope=col>Sep</th><th scope=col>Oct</th><th scope=col>Nov</th><th scope=col>Dec</th></tr>\n",
       "</thead>\n",
       "<tbody>\n",
       "\t<tr><th scope=row>1972</th><td>419.1476</td><td>391.4747</td><td>435.9193</td><td>443.9352</td><td>455.0234</td><td>517.2870</td><td>589.7133</td><td>582.9999</td><td>484.5733</td><td>428.8781</td><td>368.5266</td><td>406.7287</td></tr>\n",
       "\t<tr><th scope=row>1973</th><td>415.6605</td><td>388.7165</td><td>433.0060</td><td>440.8856</td><td>451.6518</td><td>513.0512</td><td>584.3271</td><td>577.0553</td><td>479.0764</td><td>423.4948</td><td>363.4393</td><td>400.5920</td></tr>\n",
       "</tbody>\n",
       "</table>\n"
      ],
      "text/latex": [
       "A Time Series: 2 × 12\n",
       "\\begin{tabular}{r|llllllllllll}\n",
       "  & Jan & Feb & Mar & Apr & May & Jun & Jul & Aug & Sep & Oct & Nov & Dec\\\\\n",
       "\\hline\n",
       "\t1972 & 419.1476 & 391.4747 & 435.9193 & 443.9352 & 455.0234 & 517.2870 & 589.7133 & 582.9999 & 484.5733 & 428.8781 & 368.5266 & 406.7287\\\\\n",
       "\t1973 & 415.6605 & 388.7165 & 433.0060 & 440.8856 & 451.6518 & 513.0512 & 584.3271 & 577.0553 & 479.0764 & 423.4948 & 363.4393 & 400.5920\\\\\n",
       "\\end{tabular}\n"
      ],
      "text/markdown": [
       "\n",
       "A Time Series: 2 × 12\n",
       "\n",
       "| <!--/--> | Jan | Feb | Mar | Apr | May | Jun | Jul | Aug | Sep | Oct | Nov | Dec |\n",
       "|---|---|---|---|---|---|---|---|---|---|---|---|---|\n",
       "| 1972 | 419.1476 | 391.4747 | 435.9193 | 443.9352 | 455.0234 | 517.2870 | 589.7133 | 582.9999 | 484.5733 | 428.8781 | 368.5266 | 406.7287 |\n",
       "| 1973 | 415.6605 | 388.7165 | 433.0060 | 440.8856 | 451.6518 | 513.0512 | 584.3271 | 577.0553 | 479.0764 | 423.4948 | 363.4393 | 400.5920 |\n",
       "\n"
      ],
      "text/plain": [
       "     Jan      Feb      Mar      Apr      May      Jun      Jul      Aug     \n",
       "1972 419.1476 391.4747 435.9193 443.9352 455.0234 517.2870 589.7133 582.9999\n",
       "1973 415.6605 388.7165 433.0060 440.8856 451.6518 513.0512 584.3271 577.0553\n",
       "     Sep      Oct      Nov      Dec     \n",
       "1972 484.5733 428.8781 368.5266 406.7287\n",
       "1973 479.0764 423.4948 363.4393 400.5920"
      ]
     },
     "metadata": {},
     "output_type": "display_data"
    },
    {
     "data": {
      "text/html": [
       "<table class=\"dataframe\">\n",
       "<caption>A Time Series: 2 × 12</caption>\n",
       "<thead>\n",
       "\t<tr><th></th><th scope=col>Jan</th><th scope=col>Feb</th><th scope=col>Mar</th><th scope=col>Apr</th><th scope=col>May</th><th scope=col>Jun</th><th scope=col>Jul</th><th scope=col>Aug</th><th scope=col>Sep</th><th scope=col>Oct</th><th scope=col>Nov</th><th scope=col>Dec</th></tr>\n",
       "</thead>\n",
       "<tbody>\n",
       "\t<tr><th scope=row>1972</th><td>484.0307</td><td>462.9550</td><td>526.3533</td><td>546.1657</td><td>569.5025</td><td>657.8385</td><td>761.2418</td><td>763.2807</td><td>642.9890</td><td>576.4238</td><td>501.4290</td><td>559.9813</td></tr>\n",
       "\t<tr><th scope=row>1973</th><td>591.7008</td><td>565.2108</td><td>642.3779</td><td>666.6825</td><td>695.5472</td><td>804.0651</td><td>931.3407</td><td>934.8380</td><td>788.4231</td><td>707.6668</td><td>616.3785</td><td>689.2506</td></tr>\n",
       "</tbody>\n",
       "</table>\n"
      ],
      "text/latex": [
       "A Time Series: 2 × 12\n",
       "\\begin{tabular}{r|llllllllllll}\n",
       "  & Jan & Feb & Mar & Apr & May & Jun & Jul & Aug & Sep & Oct & Nov & Dec\\\\\n",
       "\\hline\n",
       "\t1972 & 484.0307 & 462.9550 & 526.3533 & 546.1657 & 569.5025 & 657.8385 & 761.2418 & 763.2807 & 642.9890 & 576.4238 & 501.4290 & 559.9813\\\\\n",
       "\t1973 & 591.7008 & 565.2108 & 642.3779 & 666.6825 & 695.5472 & 804.0651 & 931.3407 & 934.8380 & 788.4231 & 707.6668 & 616.3785 & 689.2506\\\\\n",
       "\\end{tabular}\n"
      ],
      "text/markdown": [
       "\n",
       "A Time Series: 2 × 12\n",
       "\n",
       "| <!--/--> | Jan | Feb | Mar | Apr | May | Jun | Jul | Aug | Sep | Oct | Nov | Dec |\n",
       "|---|---|---|---|---|---|---|---|---|---|---|---|---|\n",
       "| 1972 | 484.0307 | 462.9550 | 526.3533 | 546.1657 | 569.5025 | 657.8385 | 761.2418 | 763.2807 | 642.9890 | 576.4238 | 501.4290 | 559.9813 |\n",
       "| 1973 | 591.7008 | 565.2108 | 642.3779 | 666.6825 | 695.5472 | 804.0651 | 931.3407 | 934.8380 | 788.4231 | 707.6668 | 616.3785 | 689.2506 |\n",
       "\n"
      ],
      "text/plain": [
       "     Jan      Feb      Mar      Apr      May      Jun      Jul      Aug     \n",
       "1972 484.0307 462.9550 526.3533 546.1657 569.5025 657.8385 761.2418 763.2807\n",
       "1973 591.7008 565.2108 642.3779 666.6825 695.5472 804.0651 931.3407 934.8380\n",
       "     Sep      Oct      Nov      Dec     \n",
       "1972 642.9890 576.4238 501.4290 559.9813\n",
       "1973 788.4231 707.6668 616.3785 689.2506"
      ]
     },
     "metadata": {},
     "output_type": "display_data"
    },
    {
     "data": {
      "image/png": "[encoded data removed]",
      "text/plain": [
       "plot without title"
      ]
     },
     "metadata": {
      "image/png": {
       "height": 300,
       "width": 900
      }
     },
     "output_type": "display_data"
    }
   ],
   "source": [
    "plot(model,n1=c(1969,1),n.ahead=24,pch=19,ylab='Air Passengers',transform=exp)$pred # plot in orginal terms\n",
    "plot(model,n1=c(1969,1),n.ahead=24,pch=19,ylab='Air Passengers',transform=exp)$lpi # lower bound\n",
    "plot(model,n1=c(1969,1),n.ahead=24,pch=19,ylab='Air Passengers',transform=exp)$upi # upper bound"
   ]
  },
  {
   "cell_type": "code",
   "execution_count": 22,
   "metadata": {
    "vscode": {
     "languageId": "r"
    }
   },
   "outputs": [],
   "source": [
    "# pred = data.frame(plot(model,n1=c(1969,1),n.ahead=24,pch=19,ylab='Air Passengers',transform=exp)$pred,\n",
    "# plot(model,n1=c(1969,1),n.ahead=24,pch=19,ylab='Air Passengers',transform=exp)$lpi,\n",
    "# plot(model,n1=c(1969,1),n.ahead=24,pch=19,ylab='Air Passengers',transform=exp)$upi)\n",
    "# colnames(pred)=c('point','lpi','upi')\n",
    "# pred"
   ]
  },
  {
   "cell_type": "code",
   "execution_count": null,
   "metadata": {
    "vscode": {
     "languageId": "r"
    }
   },
   "outputs": [],
   "source": []
  }
 ],
 "metadata": {
  "kernelspec": {
   "display_name": "R",
   "language": "R",
   "name": "ir"
  },
  "language_info": {
   "codemirror_mode": "r",
   "file_extension": ".r",
   "mimetype": "text/x-r-source",
   "name": "R",
   "pygments_lexer": "r",
   "version": "4.2.1"
  },
  "orig_nbformat": 4
 },
 "nbformat": 4,
 "nbformat_minor": 2
}
